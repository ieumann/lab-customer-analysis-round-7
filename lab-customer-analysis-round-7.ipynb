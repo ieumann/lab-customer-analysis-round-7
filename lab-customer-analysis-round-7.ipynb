{
 "cells": [
  {
   "cell_type": "markdown",
   "id": "5e914b85",
   "metadata": {},
   "source": [
    "1. Check the data types of the columns. Get the numeric data into dataframe called `numerical` and categorical columns in a dataframe called `categoricals`.\n",
    "(You can use np.number and np.object to select the numerical data types and categorical data types respectively)\n",
    "2. Now we will try to check the normality of the numerical variables visually\n",
    "    2.1 Use seaborn library to construct distribution plots for the numerical variables\n",
    "    2.2 Use Matplotlib to construct histograms\n",
    "    2.3 Do the distributions for different numerical variables look like a normal distribution? \n",
    "3. For the numerical variables, check the multicollinearity between the features. Please note that we will use the column `total_claim_amount` later as the target variable. \n",
    "4. Drop one of the two features that show a high correlation between them (greater than 0.9). Write code for both the correlation matrix and for seaborn heatmap. If there is no pair of features that have a high correlation, then do not drop any features\n",
    "    4.1 Use the concept of multicollinearity and remove insignificant variables (lab 7)\n",
    "\n",
    "### Pre-Processing\n",
    "5. Use the transformation on numerical columns which align it more towards a normal distribution (lab 7) \n",
    "6. X-y split\n",
    "7. One Hot/Label Encoding (categorical)\n",
    "8. Concat DataFrames\n",
    "\n",
    "### Linear Regression\n",
    "9. Train-test split\n",
    "    8.1 Use a different ratio of train test split (lab 7)\n",
    "10. Normalize (numerical)\n",
    "    9.1 Use a different method of scaling the numerical variables (lab 7)\n",
    "11. Apply linear regression\n",
    "\n",
    "### Model Validation\n",
    "12. Description: R2, MSE, RMSE, MAE\n",
    "\n",
    "### Improving the Linear Regression Model (lab 7)\n",
    "   5. Use the concept of multicollinearity and remove insignificant variables\n",
    "       9.1 Use a different method of scaling the numerical variables\n",
    "       8.1 Use a different ratio of train test split\n",
    "       2.4 Use the transformation on numerical columns which align it more towards a normal distribution\n",
    "\n",
    "Bonus: Build a function, from round 2 and round 7, to clean and process the data."
   ]
  },
  {
   "cell_type": "code",
   "execution_count": 1,
   "id": "8bf25f99",
   "metadata": {},
   "outputs": [],
   "source": [
    "import pandas as pd\n",
    "import numpy as np\n",
    "import matplotlib.pyplot as plt\n",
    "import seaborn as sns\n",
    "from scipy import stats\n",
    "import warnings\n",
    "warnings.filterwarnings('ignore')\n",
    "%matplotlib inline\n",
    "from sklearn.preprocessing import Normalizer\n",
    "from sklearn.preprocessing import MinMaxScaler\n",
    "from sklearn.preprocessing import StandardScaler\n",
    "from sklearn.preprocessing import OneHotEncoder\n",
    "from sklearn.model_selection import train_test_split\n",
    "from sklearn.linear_model import LinearRegression\n",
    "from sklearn.metrics import r2_score, mean_squared_error, mean_absolute_error"
   ]
  },
  {
   "cell_type": "code",
   "execution_count": 2,
   "id": "134da6e6",
   "metadata": {},
   "outputs": [],
   "source": [
    "df = pd.read_csv('final_cleaned_marketing_customer_analysis.csv')"
   ]
  },
  {
   "cell_type": "code",
   "execution_count": 3,
   "id": "6307e648",
   "metadata": {},
   "outputs": [
    {
     "data": {
      "text/html": [
       "<div>\n",
       "<style scoped>\n",
       "    .dataframe tbody tr th:only-of-type {\n",
       "        vertical-align: middle;\n",
       "    }\n",
       "\n",
       "    .dataframe tbody tr th {\n",
       "        vertical-align: top;\n",
       "    }\n",
       "\n",
       "    .dataframe thead th {\n",
       "        text-align: right;\n",
       "    }\n",
       "</style>\n",
       "<table border=\"1\" class=\"dataframe\">\n",
       "  <thead>\n",
       "    <tr style=\"text-align: right;\">\n",
       "      <th></th>\n",
       "      <th>customer</th>\n",
       "      <th>state</th>\n",
       "      <th>customer_lifetime_value</th>\n",
       "      <th>response</th>\n",
       "      <th>coverage</th>\n",
       "      <th>education</th>\n",
       "      <th>effective_to_date</th>\n",
       "      <th>employment_status</th>\n",
       "      <th>gender</th>\n",
       "      <th>income</th>\n",
       "      <th>...</th>\n",
       "      <th>policy</th>\n",
       "      <th>renew_offer_type</th>\n",
       "      <th>sales_channel</th>\n",
       "      <th>total_claim_amount</th>\n",
       "      <th>vehicle_class</th>\n",
       "      <th>vehicle_size</th>\n",
       "      <th>vehicle_type</th>\n",
       "      <th>month</th>\n",
       "      <th>total_claim_amount_range</th>\n",
       "      <th>income_group</th>\n",
       "    </tr>\n",
       "  </thead>\n",
       "  <tbody>\n",
       "    <tr>\n",
       "      <th>3136</th>\n",
       "      <td>YS49138</td>\n",
       "      <td>California</td>\n",
       "      <td>8678.508294</td>\n",
       "      <td>No</td>\n",
       "      <td>Premium</td>\n",
       "      <td>High School or Below</td>\n",
       "      <td>1/21/11</td>\n",
       "      <td>Employed</td>\n",
       "      <td>F</td>\n",
       "      <td>62366</td>\n",
       "      <td>...</td>\n",
       "      <td>Personal L2</td>\n",
       "      <td>Offer1</td>\n",
       "      <td>Call Center</td>\n",
       "      <td>51.316527</td>\n",
       "      <td>Four-Door Car</td>\n",
       "      <td>Medsize</td>\n",
       "      <td>A</td>\n",
       "      <td>January</td>\n",
       "      <td>0-250</td>\n",
       "      <td>High</td>\n",
       "    </tr>\n",
       "    <tr>\n",
       "      <th>4376</th>\n",
       "      <td>WX37953</td>\n",
       "      <td>Oregon</td>\n",
       "      <td>2780.729047</td>\n",
       "      <td>No</td>\n",
       "      <td>Basic</td>\n",
       "      <td>College</td>\n",
       "      <td>2/22/11</td>\n",
       "      <td>Employed</td>\n",
       "      <td>F</td>\n",
       "      <td>94943</td>\n",
       "      <td>...</td>\n",
       "      <td>Personal L2</td>\n",
       "      <td>Offer2</td>\n",
       "      <td>Web</td>\n",
       "      <td>387.545055</td>\n",
       "      <td>Four-Door Car</td>\n",
       "      <td>Medsize</td>\n",
       "      <td>A</td>\n",
       "      <td>February</td>\n",
       "      <td>250-500</td>\n",
       "      <td>Very High</td>\n",
       "    </tr>\n",
       "    <tr>\n",
       "      <th>2581</th>\n",
       "      <td>YO58424</td>\n",
       "      <td>Oregon</td>\n",
       "      <td>2580.849899</td>\n",
       "      <td>Yes</td>\n",
       "      <td>Basic</td>\n",
       "      <td>College</td>\n",
       "      <td>2/9/11</td>\n",
       "      <td>Employed</td>\n",
       "      <td>M</td>\n",
       "      <td>46900</td>\n",
       "      <td>...</td>\n",
       "      <td>Corporate L1</td>\n",
       "      <td>Offer2</td>\n",
       "      <td>Web</td>\n",
       "      <td>316.800000</td>\n",
       "      <td>Four-Door Car</td>\n",
       "      <td>Medsize</td>\n",
       "      <td>A</td>\n",
       "      <td>February</td>\n",
       "      <td>250-500</td>\n",
       "      <td>Middle</td>\n",
       "    </tr>\n",
       "    <tr>\n",
       "      <th>2501</th>\n",
       "      <td>XO38850</td>\n",
       "      <td>Arizona</td>\n",
       "      <td>6227.365252</td>\n",
       "      <td>No</td>\n",
       "      <td>Extended</td>\n",
       "      <td>College</td>\n",
       "      <td>2/4/11</td>\n",
       "      <td>Unemployed</td>\n",
       "      <td>M</td>\n",
       "      <td>0</td>\n",
       "      <td>...</td>\n",
       "      <td>Personal L2</td>\n",
       "      <td>Offer3</td>\n",
       "      <td>Agent</td>\n",
       "      <td>676.800000</td>\n",
       "      <td>Four-Door Car</td>\n",
       "      <td>Small</td>\n",
       "      <td>A</td>\n",
       "      <td>February</td>\n",
       "      <td>500-750</td>\n",
       "      <td>Low</td>\n",
       "    </tr>\n",
       "    <tr>\n",
       "      <th>3911</th>\n",
       "      <td>CA70404</td>\n",
       "      <td>California</td>\n",
       "      <td>6104.849081</td>\n",
       "      <td>No</td>\n",
       "      <td>Extended</td>\n",
       "      <td>High School or Below</td>\n",
       "      <td>2/4/11</td>\n",
       "      <td>Employed</td>\n",
       "      <td>M</td>\n",
       "      <td>62455</td>\n",
       "      <td>...</td>\n",
       "      <td>Personal L2</td>\n",
       "      <td>Offer2</td>\n",
       "      <td>Branch</td>\n",
       "      <td>338.144854</td>\n",
       "      <td>Two-Door Car</td>\n",
       "      <td>Small</td>\n",
       "      <td>A</td>\n",
       "      <td>February</td>\n",
       "      <td>250-500</td>\n",
       "      <td>High</td>\n",
       "    </tr>\n",
       "  </tbody>\n",
       "</table>\n",
       "<p>5 rows × 28 columns</p>\n",
       "</div>"
      ],
      "text/plain": [
       "     customer       state  customer_lifetime_value response  coverage  \\\n",
       "3136  YS49138  California              8678.508294       No   Premium   \n",
       "4376  WX37953      Oregon              2780.729047       No     Basic   \n",
       "2581  YO58424      Oregon              2580.849899      Yes     Basic   \n",
       "2501  XO38850     Arizona              6227.365252       No  Extended   \n",
       "3911  CA70404  California              6104.849081       No  Extended   \n",
       "\n",
       "                 education effective_to_date employment_status gender  income  \\\n",
       "3136  High School or Below           1/21/11          Employed      F   62366   \n",
       "4376               College           2/22/11          Employed      F   94943   \n",
       "2581               College            2/9/11          Employed      M   46900   \n",
       "2501               College            2/4/11        Unemployed      M       0   \n",
       "3911  High School or Below            2/4/11          Employed      M   62455   \n",
       "\n",
       "      ...        policy renew_offer_type  sales_channel  total_claim_amount  \\\n",
       "3136  ...   Personal L2           Offer1    Call Center           51.316527   \n",
       "4376  ...   Personal L2           Offer2            Web          387.545055   \n",
       "2581  ...  Corporate L1           Offer2            Web          316.800000   \n",
       "2501  ...   Personal L2           Offer3          Agent          676.800000   \n",
       "3911  ...   Personal L2           Offer2         Branch          338.144854   \n",
       "\n",
       "      vehicle_class  vehicle_size  vehicle_type     month  \\\n",
       "3136  Four-Door Car       Medsize             A   January   \n",
       "4376  Four-Door Car       Medsize             A  February   \n",
       "2581  Four-Door Car       Medsize             A  February   \n",
       "2501  Four-Door Car         Small             A  February   \n",
       "3911   Two-Door Car         Small             A  February   \n",
       "\n",
       "     total_claim_amount_range income_group  \n",
       "3136                    0-250         High  \n",
       "4376                  250-500    Very High  \n",
       "2581                  250-500       Middle  \n",
       "2501                  500-750          Low  \n",
       "3911                  250-500         High  \n",
       "\n",
       "[5 rows x 28 columns]"
      ]
     },
     "execution_count": 3,
     "metadata": {},
     "output_type": "execute_result"
    }
   ],
   "source": [
    "df = df.drop(['Unnamed: 0'], axis=1) \n",
    "df.sample(5)"
   ]
  },
  {
   "cell_type": "markdown",
   "id": "07054bc9",
   "metadata": {},
   "source": [
    "1. Check the data types of the columns. Get the numeric data into dataframe called numerical and categorical columns in a dataframe called categoricals."
   ]
  },
  {
   "cell_type": "code",
   "execution_count": 4,
   "id": "ad91cf3b",
   "metadata": {},
   "outputs": [
    {
     "data": {
      "text/plain": [
       "customer                          object\n",
       "state                             object\n",
       "customer_lifetime_value          float64\n",
       "response                          object\n",
       "coverage                          object\n",
       "education                         object\n",
       "effective_to_date                 object\n",
       "employment_status                 object\n",
       "gender                            object\n",
       "income                             int64\n",
       "location_code                     object\n",
       "marital_status                    object\n",
       "monthly_premium_auto               int64\n",
       "months_since_last_claim          float64\n",
       "months_since_policy_inception      int64\n",
       "number_of_open_complaints        float64\n",
       "number_of_policies                 int64\n",
       "policy_type                       object\n",
       "policy                            object\n",
       "renew_offer_type                  object\n",
       "sales_channel                     object\n",
       "total_claim_amount               float64\n",
       "vehicle_class                     object\n",
       "vehicle_size                      object\n",
       "vehicle_type                      object\n",
       "month                             object\n",
       "total_claim_amount_range          object\n",
       "income_group                      object\n",
       "dtype: object"
      ]
     },
     "execution_count": 4,
     "metadata": {},
     "output_type": "execute_result"
    }
   ],
   "source": [
    "df.dtypes"
   ]
  },
  {
   "cell_type": "code",
   "execution_count": 5,
   "id": "02ef4ed6",
   "metadata": {},
   "outputs": [
    {
     "data": {
      "text/plain": [
       "Index(['customer_lifetime_value', 'income', 'monthly_premium_auto',\n",
       "       'months_since_last_claim', 'months_since_policy_inception',\n",
       "       'number_of_open_complaints', 'number_of_policies',\n",
       "       'total_claim_amount'],\n",
       "      dtype='object')"
      ]
     },
     "execution_count": 5,
     "metadata": {},
     "output_type": "execute_result"
    }
   ],
   "source": [
    "numericals = df.select_dtypes(include=[np.number])\n",
    "numericals.columns"
   ]
  },
  {
   "cell_type": "code",
   "execution_count": 6,
   "id": "651ccb22",
   "metadata": {},
   "outputs": [
    {
     "data": {
      "text/plain": [
       "Index(['customer', 'state', 'response', 'coverage', 'education',\n",
       "       'effective_to_date', 'employment_status', 'gender', 'location_code',\n",
       "       'marital_status', 'policy_type', 'policy', 'renew_offer_type',\n",
       "       'sales_channel', 'vehicle_class', 'vehicle_size', 'vehicle_type',\n",
       "       'month', 'total_claim_amount_range', 'income_group'],\n",
       "      dtype='object')"
      ]
     },
     "execution_count": 6,
     "metadata": {},
     "output_type": "execute_result"
    }
   ],
   "source": [
    "categoricals = df.select_dtypes(include=[np.object])\n",
    "categoricals.columns"
   ]
  },
  {
   "cell_type": "markdown",
   "id": "7f313b7b",
   "metadata": {},
   "source": [
    "2. Now we will try to check the normality of the numerical variables visually"
   ]
  },
  {
   "cell_type": "code",
   "execution_count": 7,
   "id": "ad376f94",
   "metadata": {},
   "outputs": [
    {
     "data": {
      "text/html": [
       "<div>\n",
       "<style scoped>\n",
       "    .dataframe tbody tr th:only-of-type {\n",
       "        vertical-align: middle;\n",
       "    }\n",
       "\n",
       "    .dataframe tbody tr th {\n",
       "        vertical-align: top;\n",
       "    }\n",
       "\n",
       "    .dataframe thead th {\n",
       "        text-align: right;\n",
       "    }\n",
       "</style>\n",
       "<table border=\"1\" class=\"dataframe\">\n",
       "  <thead>\n",
       "    <tr style=\"text-align: right;\">\n",
       "      <th></th>\n",
       "      <th>count</th>\n",
       "      <th>mean</th>\n",
       "      <th>std</th>\n",
       "      <th>min</th>\n",
       "      <th>25%</th>\n",
       "      <th>50%</th>\n",
       "      <th>75%</th>\n",
       "      <th>max</th>\n",
       "      <th>iqr</th>\n",
       "    </tr>\n",
       "  </thead>\n",
       "  <tbody>\n",
       "    <tr>\n",
       "      <th>customer_lifetime_value</th>\n",
       "      <td>4815.0</td>\n",
       "      <td>8023.0</td>\n",
       "      <td>6926.0</td>\n",
       "      <td>1904.0</td>\n",
       "      <td>4038.0</td>\n",
       "      <td>5838.0</td>\n",
       "      <td>8937.0</td>\n",
       "      <td>83325.0</td>\n",
       "      <td>4898.0</td>\n",
       "    </tr>\n",
       "    <tr>\n",
       "      <th>income</th>\n",
       "      <td>4815.0</td>\n",
       "      <td>37635.0</td>\n",
       "      <td>30190.0</td>\n",
       "      <td>0.0</td>\n",
       "      <td>0.0</td>\n",
       "      <td>34516.0</td>\n",
       "      <td>61576.0</td>\n",
       "      <td>99961.0</td>\n",
       "      <td>61576.0</td>\n",
       "    </tr>\n",
       "    <tr>\n",
       "      <th>monthly_premium_auto</th>\n",
       "      <td>4815.0</td>\n",
       "      <td>94.0</td>\n",
       "      <td>35.0</td>\n",
       "      <td>61.0</td>\n",
       "      <td>69.0</td>\n",
       "      <td>83.0</td>\n",
       "      <td>110.0</td>\n",
       "      <td>298.0</td>\n",
       "      <td>41.0</td>\n",
       "    </tr>\n",
       "    <tr>\n",
       "      <th>months_since_last_claim</th>\n",
       "      <td>4815.0</td>\n",
       "      <td>15.0</td>\n",
       "      <td>10.0</td>\n",
       "      <td>0.0</td>\n",
       "      <td>6.0</td>\n",
       "      <td>14.0</td>\n",
       "      <td>23.0</td>\n",
       "      <td>35.0</td>\n",
       "      <td>17.0</td>\n",
       "    </tr>\n",
       "    <tr>\n",
       "      <th>months_since_policy_inception</th>\n",
       "      <td>4815.0</td>\n",
       "      <td>48.0</td>\n",
       "      <td>28.0</td>\n",
       "      <td>0.0</td>\n",
       "      <td>24.0</td>\n",
       "      <td>48.0</td>\n",
       "      <td>72.0</td>\n",
       "      <td>99.0</td>\n",
       "      <td>48.0</td>\n",
       "    </tr>\n",
       "    <tr>\n",
       "      <th>number_of_open_complaints</th>\n",
       "      <td>4815.0</td>\n",
       "      <td>0.0</td>\n",
       "      <td>1.0</td>\n",
       "      <td>0.0</td>\n",
       "      <td>0.0</td>\n",
       "      <td>0.0</td>\n",
       "      <td>0.0</td>\n",
       "      <td>5.0</td>\n",
       "      <td>0.0</td>\n",
       "    </tr>\n",
       "    <tr>\n",
       "      <th>number_of_policies</th>\n",
       "      <td>4815.0</td>\n",
       "      <td>3.0</td>\n",
       "      <td>2.0</td>\n",
       "      <td>1.0</td>\n",
       "      <td>1.0</td>\n",
       "      <td>2.0</td>\n",
       "      <td>4.0</td>\n",
       "      <td>9.0</td>\n",
       "      <td>3.0</td>\n",
       "    </tr>\n",
       "    <tr>\n",
       "      <th>total_claim_amount</th>\n",
       "      <td>4815.0</td>\n",
       "      <td>434.0</td>\n",
       "      <td>294.0</td>\n",
       "      <td>0.0</td>\n",
       "      <td>259.0</td>\n",
       "      <td>381.0</td>\n",
       "      <td>548.0</td>\n",
       "      <td>2893.0</td>\n",
       "      <td>289.0</td>\n",
       "    </tr>\n",
       "  </tbody>\n",
       "</table>\n",
       "</div>"
      ],
      "text/plain": [
       "                                count     mean      std     min     25%  \\\n",
       "customer_lifetime_value        4815.0   8023.0   6926.0  1904.0  4038.0   \n",
       "income                         4815.0  37635.0  30190.0     0.0     0.0   \n",
       "monthly_premium_auto           4815.0     94.0     35.0    61.0    69.0   \n",
       "months_since_last_claim        4815.0     15.0     10.0     0.0     6.0   \n",
       "months_since_policy_inception  4815.0     48.0     28.0     0.0    24.0   \n",
       "number_of_open_complaints      4815.0      0.0      1.0     0.0     0.0   \n",
       "number_of_policies             4815.0      3.0      2.0     1.0     1.0   \n",
       "total_claim_amount             4815.0    434.0    294.0     0.0   259.0   \n",
       "\n",
       "                                   50%      75%      max      iqr  \n",
       "customer_lifetime_value         5838.0   8937.0  83325.0   4898.0  \n",
       "income                         34516.0  61576.0  99961.0  61576.0  \n",
       "monthly_premium_auto              83.0    110.0    298.0     41.0  \n",
       "months_since_last_claim           14.0     23.0     35.0     17.0  \n",
       "months_since_policy_inception     48.0     72.0     99.0     48.0  \n",
       "number_of_open_complaints          0.0      0.0      5.0      0.0  \n",
       "number_of_policies                 2.0      4.0      9.0      3.0  \n",
       "total_claim_amount               381.0    548.0   2893.0    289.0  "
      ]
     },
     "execution_count": 7,
     "metadata": {},
     "output_type": "execute_result"
    }
   ],
   "source": [
    "summary = df.describe().T\n",
    "summary['iqr'] = summary['75%']-summary['25%']\n",
    "summary = summary.apply(round)\n",
    "summary"
   ]
  },
  {
   "cell_type": "markdown",
   "id": "d68791d6",
   "metadata": {},
   "source": [
    "2.1 Use seaborn library to construct distribution plots for the numerical variables"
   ]
  },
  {
   "cell_type": "code",
   "execution_count": 8,
   "id": "bad81641",
   "metadata": {},
   "outputs": [
    {
     "data": {
      "image/png": "[encoded data removed]",
      "text/plain": [
       "<Figure size 640x480 with 1 Axes>"
      ]
     },
     "metadata": {},
     "output_type": "display_data"
    },
    {
     "data": {
      "image/png": "[encoded data removed]",
      "text/plain": [
       "<Figure size 640x480 with 1 Axes>"
      ]
     },
     "metadata": {},
     "output_type": "display_data"
    },
    {
     "data": {
      "image/png": "[encoded data removed]",
      "text/plain": [
       "<Figure size 640x480 with 1 Axes>"
      ]
     },
     "metadata": {},
     "output_type": "display_data"
    },
    {
     "data": {
      "image/png": "[encoded data removed]",
      "text/plain": [
       "<Figure size 640x480 with 1 Axes>"
      ]
     },
     "metadata": {},
     "output_type": "display_data"
    },
    {
     "data": {
      "image/png": "[encoded data removed]",
      "text/plain": [
       "<Figure size 640x480 with 1 Axes>"
      ]
     },
     "metadata": {},
     "output_type": "display_data"
    },
    {
     "data": {
      "image/png": "[encoded data removed]",
      "text/plain": [
       "<Figure size 640x480 with 1 Axes>"
      ]
     },
     "metadata": {},
     "output_type": "display_data"
    },
    {
     "data": {
      "image/png": "[encoded data removed]",
      "text/plain": [
       "<Figure size 640x480 with 1 Axes>"
      ]
     },
     "metadata": {},
     "output_type": "display_data"
    },
    {
     "data": {
      "image/png": "[encoded data removed]",
      "text/plain": [
       "<Figure size 640x480 with 1 Axes>"
      ]
     },
     "metadata": {},
     "output_type": "display_data"
    }
   ],
   "source": [
    "for column in numericals.columns:\n",
    "    sns.distplot(numericals[column])\n",
    "    plt.show()"
   ]
  },
  {
   "cell_type": "markdown",
   "id": "cd05f3eb",
   "metadata": {},
   "source": [
    "2.2 Use Matplotlib to construct histograms"
   ]
  },
  {
   "cell_type": "code",
   "execution_count": 9,
   "id": "919de871",
   "metadata": {},
   "outputs": [
    {
     "data": {
      "text/plain": [
       "8"
      ]
     },
     "execution_count": 9,
     "metadata": {},
     "output_type": "execute_result"
    }
   ],
   "source": [
    "len(numericals.columns)"
   ]
  },
  {
   "cell_type": "code",
   "execution_count": 10,
   "id": "01918d98",
   "metadata": {},
   "outputs": [
    {
     "data": {
      "image/png": "[encoded data removed]",
      "text/plain": [
       "<Figure size 640x480 with 8 Axes>"
      ]
     },
     "metadata": {},
     "output_type": "display_data"
    }
   ],
   "source": [
    "fig, axs = plt.subplots(2, 4)\n",
    "axs[0, 0].hist(numericals['customer_lifetime_value'])\n",
    "axs[0, 1].hist(numericals['income'])\n",
    "axs[0, 2].hist(numericals['monthly_premium_auto'])\n",
    "axs[0, 3].hist(numericals['months_since_last_claim'])\n",
    "axs[1, 0].hist(numericals['months_since_policy_inception'])\n",
    "axs[1, 1].hist(numericals['number_of_open_complaints'])\n",
    "axs[1, 2].hist(numericals['number_of_policies'])\n",
    "axs[1, 3].hist(numericals['total_claim_amount'])\n",
    "plt.show()"
   ]
  },
  {
   "cell_type": "markdown",
   "id": "74eb6e2a",
   "metadata": {},
   "source": [
    "2.3 Do the distributions for different numerical variables look like a normal distribution?"
   ]
  },
  {
   "cell_type": "markdown",
   "id": "f099400d",
   "metadata": {},
   "source": [
    "The distribution of the 'customer_lifetime_value', 'income', 'monthly_premium_auto', and 'total_claim_amount' variables appear to be somewhat bell-shaped and symmetric, which could indicate a normal distribution."
   ]
  },
  {
   "cell_type": "markdown",
   "id": "ce0202ad",
   "metadata": {},
   "source": [
    "3. For the numerical variables, check the multicollinearity between the features. Please note that we will use the column total_claim_amount later as the target variable."
   ]
  },
  {
   "cell_type": "code",
   "execution_count": 11,
   "id": "fb86acdd",
   "metadata": {},
   "outputs": [
    {
     "data": {
      "text/html": [
       "<div>\n",
       "<style scoped>\n",
       "    .dataframe tbody tr th:only-of-type {\n",
       "        vertical-align: middle;\n",
       "    }\n",
       "\n",
       "    .dataframe tbody tr th {\n",
       "        vertical-align: top;\n",
       "    }\n",
       "\n",
       "    .dataframe thead th {\n",
       "        text-align: right;\n",
       "    }\n",
       "</style>\n",
       "<table border=\"1\" class=\"dataframe\">\n",
       "  <thead>\n",
       "    <tr style=\"text-align: right;\">\n",
       "      <th></th>\n",
       "      <th>customer_lifetime_value</th>\n",
       "      <th>income</th>\n",
       "      <th>monthly_premium_auto</th>\n",
       "      <th>months_since_last_claim</th>\n",
       "      <th>months_since_policy_inception</th>\n",
       "      <th>number_of_open_complaints</th>\n",
       "      <th>number_of_policies</th>\n",
       "      <th>total_claim_amount</th>\n",
       "    </tr>\n",
       "  </thead>\n",
       "  <tbody>\n",
       "    <tr>\n",
       "      <th>customer_lifetime_value</th>\n",
       "      <td>1.00</td>\n",
       "      <td>0.02</td>\n",
       "      <td>0.41</td>\n",
       "      <td>0.03</td>\n",
       "      <td>0.03</td>\n",
       "      <td>-0.04</td>\n",
       "      <td>0.02</td>\n",
       "      <td>0.23</td>\n",
       "    </tr>\n",
       "    <tr>\n",
       "      <th>income</th>\n",
       "      <td>0.02</td>\n",
       "      <td>1.00</td>\n",
       "      <td>-0.00</td>\n",
       "      <td>-0.01</td>\n",
       "      <td>-0.01</td>\n",
       "      <td>0.00</td>\n",
       "      <td>-0.01</td>\n",
       "      <td>-0.35</td>\n",
       "    </tr>\n",
       "    <tr>\n",
       "      <th>monthly_premium_auto</th>\n",
       "      <td>0.41</td>\n",
       "      <td>-0.00</td>\n",
       "      <td>1.00</td>\n",
       "      <td>-0.00</td>\n",
       "      <td>0.03</td>\n",
       "      <td>-0.00</td>\n",
       "      <td>-0.03</td>\n",
       "      <td>0.63</td>\n",
       "    </tr>\n",
       "    <tr>\n",
       "      <th>months_since_last_claim</th>\n",
       "      <td>0.03</td>\n",
       "      <td>-0.01</td>\n",
       "      <td>-0.00</td>\n",
       "      <td>1.00</td>\n",
       "      <td>-0.04</td>\n",
       "      <td>-0.00</td>\n",
       "      <td>0.00</td>\n",
       "      <td>-0.01</td>\n",
       "    </tr>\n",
       "    <tr>\n",
       "      <th>months_since_policy_inception</th>\n",
       "      <td>0.03</td>\n",
       "      <td>-0.01</td>\n",
       "      <td>0.03</td>\n",
       "      <td>-0.04</td>\n",
       "      <td>1.00</td>\n",
       "      <td>0.00</td>\n",
       "      <td>-0.01</td>\n",
       "      <td>0.01</td>\n",
       "    </tr>\n",
       "    <tr>\n",
       "      <th>number_of_open_complaints</th>\n",
       "      <td>-0.04</td>\n",
       "      <td>0.00</td>\n",
       "      <td>-0.00</td>\n",
       "      <td>-0.00</td>\n",
       "      <td>0.00</td>\n",
       "      <td>1.00</td>\n",
       "      <td>0.01</td>\n",
       "      <td>-0.01</td>\n",
       "    </tr>\n",
       "    <tr>\n",
       "      <th>number_of_policies</th>\n",
       "      <td>0.02</td>\n",
       "      <td>-0.01</td>\n",
       "      <td>-0.03</td>\n",
       "      <td>0.00</td>\n",
       "      <td>-0.01</td>\n",
       "      <td>0.01</td>\n",
       "      <td>1.00</td>\n",
       "      <td>0.00</td>\n",
       "    </tr>\n",
       "    <tr>\n",
       "      <th>total_claim_amount</th>\n",
       "      <td>0.23</td>\n",
       "      <td>-0.35</td>\n",
       "      <td>0.63</td>\n",
       "      <td>-0.01</td>\n",
       "      <td>0.01</td>\n",
       "      <td>-0.01</td>\n",
       "      <td>0.00</td>\n",
       "      <td>1.00</td>\n",
       "    </tr>\n",
       "  </tbody>\n",
       "</table>\n",
       "</div>"
      ],
      "text/plain": [
       "                               customer_lifetime_value  income  \\\n",
       "customer_lifetime_value                           1.00    0.02   \n",
       "income                                            0.02    1.00   \n",
       "monthly_premium_auto                              0.41   -0.00   \n",
       "months_since_last_claim                           0.03   -0.01   \n",
       "months_since_policy_inception                     0.03   -0.01   \n",
       "number_of_open_complaints                        -0.04    0.00   \n",
       "number_of_policies                                0.02   -0.01   \n",
       "total_claim_amount                                0.23   -0.35   \n",
       "\n",
       "                               monthly_premium_auto  months_since_last_claim  \\\n",
       "customer_lifetime_value                        0.41                     0.03   \n",
       "income                                        -0.00                    -0.01   \n",
       "monthly_premium_auto                           1.00                    -0.00   \n",
       "months_since_last_claim                       -0.00                     1.00   \n",
       "months_since_policy_inception                  0.03                    -0.04   \n",
       "number_of_open_complaints                     -0.00                    -0.00   \n",
       "number_of_policies                            -0.03                     0.00   \n",
       "total_claim_amount                             0.63                    -0.01   \n",
       "\n",
       "                               months_since_policy_inception  \\\n",
       "customer_lifetime_value                                 0.03   \n",
       "income                                                 -0.01   \n",
       "monthly_premium_auto                                    0.03   \n",
       "months_since_last_claim                                -0.04   \n",
       "months_since_policy_inception                           1.00   \n",
       "number_of_open_complaints                               0.00   \n",
       "number_of_policies                                     -0.01   \n",
       "total_claim_amount                                      0.01   \n",
       "\n",
       "                               number_of_open_complaints  number_of_policies  \\\n",
       "customer_lifetime_value                            -0.04                0.02   \n",
       "income                                              0.00               -0.01   \n",
       "monthly_premium_auto                               -0.00               -0.03   \n",
       "months_since_last_claim                            -0.00                0.00   \n",
       "months_since_policy_inception                       0.00               -0.01   \n",
       "number_of_open_complaints                           1.00                0.01   \n",
       "number_of_policies                                  0.01                1.00   \n",
       "total_claim_amount                                 -0.01                0.00   \n",
       "\n",
       "                               total_claim_amount  \n",
       "customer_lifetime_value                      0.23  \n",
       "income                                      -0.35  \n",
       "monthly_premium_auto                         0.63  \n",
       "months_since_last_claim                     -0.01  \n",
       "months_since_policy_inception                0.01  \n",
       "number_of_open_complaints                   -0.01  \n",
       "number_of_policies                           0.00  \n",
       "total_claim_amount                           1.00  "
      ]
     },
     "execution_count": 11,
     "metadata": {},
     "output_type": "execute_result"
    }
   ],
   "source": [
    "correlations_numericals = numericals.corr()\n",
    "correlations_numericals = round(correlations_numericals,2)\n",
    "correlations_numericals"
   ]
  },
  {
   "cell_type": "code",
   "execution_count": 12,
   "id": "53dbe830",
   "metadata": {},
   "outputs": [
    {
     "data": {
      "image/png": "[encoded data removed]",
      "text/plain": [
       "<Figure size 640x480 with 2 Axes>"
      ]
     },
     "metadata": {},
     "output_type": "display_data"
    }
   ],
   "source": [
    "sns.heatmap(correlations_numericals, cmap=\"Greens\", annot=True, fmt='.2f')\n",
    "plt.show()"
   ]
  },
  {
   "cell_type": "markdown",
   "id": "7f0917af",
   "metadata": {},
   "source": [
    "4. Drop one of the two features that show a high correlation between them (greater than 0.9). Write code for both the correlation matrix and for seaborn heatmap. If there is no pair of features that have a high correlation, then do not drop any features"
   ]
  },
  {
   "cell_type": "markdown",
   "id": "945763c3",
   "metadata": {},
   "source": [
    "There's no high correlation between two variables."
   ]
  },
  {
   "cell_type": "markdown",
   "id": "3dbf1584",
   "metadata": {},
   "source": [
    "4.1 Use the concept of multicollinearity and remove insignificant variables"
   ]
  },
  {
   "cell_type": "code",
   "execution_count": 13,
   "id": "61f55215",
   "metadata": {},
   "outputs": [],
   "source": [
    "numericals = numericals.drop(['number_of_policies'], axis=1)"
   ]
  },
  {
   "cell_type": "code",
   "execution_count": 14,
   "id": "fa8cfa51",
   "metadata": {},
   "outputs": [],
   "source": [
    "numericals = numericals.drop(['number_of_open_complaints'], axis=1)"
   ]
  },
  {
   "cell_type": "code",
   "execution_count": 15,
   "id": "309cb8ca",
   "metadata": {},
   "outputs": [],
   "source": [
    "numericals = numericals.drop(['months_since_policy_inception'], axis=1)"
   ]
  },
  {
   "cell_type": "code",
   "execution_count": 16,
   "id": "c5d97c1f",
   "metadata": {},
   "outputs": [],
   "source": [
    "numericals = numericals.drop(['months_since_last_claim'], axis=1)"
   ]
  },
  {
   "cell_type": "code",
   "execution_count": 17,
   "id": "57d1f437",
   "metadata": {},
   "outputs": [
    {
     "data": {
      "text/html": [
       "<div>\n",
       "<style scoped>\n",
       "    .dataframe tbody tr th:only-of-type {\n",
       "        vertical-align: middle;\n",
       "    }\n",
       "\n",
       "    .dataframe tbody tr th {\n",
       "        vertical-align: top;\n",
       "    }\n",
       "\n",
       "    .dataframe thead th {\n",
       "        text-align: right;\n",
       "    }\n",
       "</style>\n",
       "<table border=\"1\" class=\"dataframe\">\n",
       "  <thead>\n",
       "    <tr style=\"text-align: right;\">\n",
       "      <th></th>\n",
       "      <th>customer_lifetime_value</th>\n",
       "      <th>income</th>\n",
       "      <th>monthly_premium_auto</th>\n",
       "      <th>total_claim_amount</th>\n",
       "    </tr>\n",
       "  </thead>\n",
       "  <tbody>\n",
       "    <tr>\n",
       "      <th>customer_lifetime_value</th>\n",
       "      <td>1.00</td>\n",
       "      <td>0.02</td>\n",
       "      <td>0.41</td>\n",
       "      <td>0.23</td>\n",
       "    </tr>\n",
       "    <tr>\n",
       "      <th>income</th>\n",
       "      <td>0.02</td>\n",
       "      <td>1.00</td>\n",
       "      <td>-0.00</td>\n",
       "      <td>-0.35</td>\n",
       "    </tr>\n",
       "    <tr>\n",
       "      <th>monthly_premium_auto</th>\n",
       "      <td>0.41</td>\n",
       "      <td>-0.00</td>\n",
       "      <td>1.00</td>\n",
       "      <td>0.63</td>\n",
       "    </tr>\n",
       "    <tr>\n",
       "      <th>total_claim_amount</th>\n",
       "      <td>0.23</td>\n",
       "      <td>-0.35</td>\n",
       "      <td>0.63</td>\n",
       "      <td>1.00</td>\n",
       "    </tr>\n",
       "  </tbody>\n",
       "</table>\n",
       "</div>"
      ],
      "text/plain": [
       "                         customer_lifetime_value  income  \\\n",
       "customer_lifetime_value                     1.00    0.02   \n",
       "income                                      0.02    1.00   \n",
       "monthly_premium_auto                        0.41   -0.00   \n",
       "total_claim_amount                          0.23   -0.35   \n",
       "\n",
       "                         monthly_premium_auto  total_claim_amount  \n",
       "customer_lifetime_value                  0.41                0.23  \n",
       "income                                  -0.00               -0.35  \n",
       "monthly_premium_auto                     1.00                0.63  \n",
       "total_claim_amount                       0.63                1.00  "
      ]
     },
     "execution_count": 17,
     "metadata": {},
     "output_type": "execute_result"
    }
   ],
   "source": [
    "correlations_numericals = numericals.corr()\n",
    "correlations_numericals = round(correlations_numericals,2)\n",
    "correlations_numericals"
   ]
  },
  {
   "cell_type": "markdown",
   "id": "ef1412cb",
   "metadata": {},
   "source": [
    "5. Use the transformation on numerical columns which align it more towards a normal distribution (lab 7)"
   ]
  },
  {
   "cell_type": "markdown",
   "id": "3b2c6bb8",
   "metadata": {},
   "source": [
    "Based on the histograms, a logarithmic transformation may be a good starting point to reduce skewness in 'customer_lifetime_value', while a square-root or logarithmic transformation may be appropriate for 'monthly_premium_auto'. I don't want to normalize 'income' since there are many values of 0 (1225) and converting all of them to the mean or any other value for that matter would change the relation of one of the most important dependent variables 'income' with the target 'total_claim_amount' completely."
   ]
  },
  {
   "cell_type": "code",
   "execution_count": 18,
   "id": "fefb34ee",
   "metadata": {},
   "outputs": [
    {
     "data": {
      "text/plain": [
       "1225"
      ]
     },
     "execution_count": 18,
     "metadata": {},
     "output_type": "execute_result"
    }
   ],
   "source": [
    "num_zeros = (numericals['income'] == 0).sum()\n",
    "num_zeros\n"
   ]
  },
  {
   "cell_type": "code",
   "execution_count": 19,
   "id": "2af5b8f7",
   "metadata": {},
   "outputs": [
    {
     "data": {
      "text/plain": [
       "customer_lifetime_value    0\n",
       "income                     0\n",
       "monthly_premium_auto       0\n",
       "total_claim_amount         0\n",
       "dtype: int64"
      ]
     },
     "execution_count": 19,
     "metadata": {},
     "output_type": "execute_result"
    }
   ],
   "source": [
    "numericals.isna().sum()"
   ]
  },
  {
   "cell_type": "code",
   "execution_count": 20,
   "id": "6495cd2a",
   "metadata": {},
   "outputs": [],
   "source": [
    "numericals2 = numericals.copy()"
   ]
  },
  {
   "cell_type": "code",
   "execution_count": 21,
   "id": "62eefaf2",
   "metadata": {},
   "outputs": [
    {
     "data": {
      "image/png": "[encoded data removed]",
      "text/plain": [
       "<Figure size 640x480 with 1 Axes>"
      ]
     },
     "metadata": {},
     "output_type": "display_data"
    }
   ],
   "source": [
    "numericals2['customer_lifetime_value'] = np.log(numericals2['customer_lifetime_value'])\n",
    "sns.distplot(numericals2['customer_lifetime_value'])\n",
    "plt.show()"
   ]
  },
  {
   "cell_type": "code",
   "execution_count": 22,
   "id": "d7582fec",
   "metadata": {},
   "outputs": [
    {
     "data": {
      "image/png": "[encoded data removed]",
      "text/plain": [
       "<Figure size 640x480 with 1 Axes>"
      ]
     },
     "metadata": {},
     "output_type": "display_data"
    }
   ],
   "source": [
    "numericals2['monthly_premium_auto'] = np.log(numericals2['monthly_premium_auto'])\n",
    "sns.distplot(numericals2['monthly_premium_auto'])\n",
    "plt.show()"
   ]
  },
  {
   "cell_type": "markdown",
   "id": "aed4d5d0",
   "metadata": {},
   "source": [
    "6. X-y split"
   ]
  },
  {
   "cell_type": "code",
   "execution_count": 23,
   "id": "3f1e5656",
   "metadata": {},
   "outputs": [
    {
     "data": {
      "text/html": [
       "<div>\n",
       "<style scoped>\n",
       "    .dataframe tbody tr th:only-of-type {\n",
       "        vertical-align: middle;\n",
       "    }\n",
       "\n",
       "    .dataframe tbody tr th {\n",
       "        vertical-align: top;\n",
       "    }\n",
       "\n",
       "    .dataframe thead th {\n",
       "        text-align: right;\n",
       "    }\n",
       "</style>\n",
       "<table border=\"1\" class=\"dataframe\">\n",
       "  <thead>\n",
       "    <tr style=\"text-align: right;\">\n",
       "      <th></th>\n",
       "      <th>customer_lifetime_value</th>\n",
       "      <th>income</th>\n",
       "      <th>monthly_premium_auto</th>\n",
       "    </tr>\n",
       "  </thead>\n",
       "  <tbody>\n",
       "    <tr>\n",
       "      <th>1395</th>\n",
       "      <td>8.959375</td>\n",
       "      <td>87128</td>\n",
       "      <td>4.574711</td>\n",
       "    </tr>\n",
       "    <tr>\n",
       "      <th>4020</th>\n",
       "      <td>8.379943</td>\n",
       "      <td>86001</td>\n",
       "      <td>4.691348</td>\n",
       "    </tr>\n",
       "    <tr>\n",
       "      <th>328</th>\n",
       "      <td>8.439621</td>\n",
       "      <td>79487</td>\n",
       "      <td>4.736198</td>\n",
       "    </tr>\n",
       "    <tr>\n",
       "      <th>899</th>\n",
       "      <td>8.707322</td>\n",
       "      <td>20396</td>\n",
       "      <td>4.330733</td>\n",
       "    </tr>\n",
       "    <tr>\n",
       "      <th>4176</th>\n",
       "      <td>8.780080</td>\n",
       "      <td>22081</td>\n",
       "      <td>4.430817</td>\n",
       "    </tr>\n",
       "    <tr>\n",
       "      <th>1184</th>\n",
       "      <td>8.078135</td>\n",
       "      <td>0</td>\n",
       "      <td>4.510860</td>\n",
       "    </tr>\n",
       "    <tr>\n",
       "      <th>2417</th>\n",
       "      <td>10.323596</td>\n",
       "      <td>64321</td>\n",
       "      <td>5.533389</td>\n",
       "    </tr>\n",
       "    <tr>\n",
       "      <th>2633</th>\n",
       "      <td>7.851211</td>\n",
       "      <td>11167</td>\n",
       "      <td>4.290459</td>\n",
       "    </tr>\n",
       "    <tr>\n",
       "      <th>309</th>\n",
       "      <td>8.839235</td>\n",
       "      <td>37308</td>\n",
       "      <td>4.454347</td>\n",
       "    </tr>\n",
       "    <tr>\n",
       "      <th>2190</th>\n",
       "      <td>8.492411</td>\n",
       "      <td>0</td>\n",
       "      <td>4.189655</td>\n",
       "    </tr>\n",
       "    <tr>\n",
       "      <th>278</th>\n",
       "      <td>9.062169</td>\n",
       "      <td>97361</td>\n",
       "      <td>4.290459</td>\n",
       "    </tr>\n",
       "    <tr>\n",
       "      <th>3625</th>\n",
       "      <td>9.111647</td>\n",
       "      <td>57078</td>\n",
       "      <td>4.727388</td>\n",
       "    </tr>\n",
       "    <tr>\n",
       "      <th>1355</th>\n",
       "      <td>8.635256</td>\n",
       "      <td>59782</td>\n",
       "      <td>4.248495</td>\n",
       "    </tr>\n",
       "    <tr>\n",
       "      <th>1721</th>\n",
       "      <td>10.099769</td>\n",
       "      <td>0</td>\n",
       "      <td>4.442651</td>\n",
       "    </tr>\n",
       "    <tr>\n",
       "      <th>890</th>\n",
       "      <td>8.310930</td>\n",
       "      <td>0</td>\n",
       "      <td>4.143135</td>\n",
       "    </tr>\n",
       "    <tr>\n",
       "      <th>2767</th>\n",
       "      <td>8.591323</td>\n",
       "      <td>0</td>\n",
       "      <td>4.356709</td>\n",
       "    </tr>\n",
       "    <tr>\n",
       "      <th>4459</th>\n",
       "      <td>9.452647</td>\n",
       "      <td>73054</td>\n",
       "      <td>4.663439</td>\n",
       "    </tr>\n",
       "    <tr>\n",
       "      <th>1610</th>\n",
       "      <td>8.053714</td>\n",
       "      <td>52082</td>\n",
       "      <td>4.369448</td>\n",
       "    </tr>\n",
       "    <tr>\n",
       "      <th>2018</th>\n",
       "      <td>8.580933</td>\n",
       "      <td>43671</td>\n",
       "      <td>4.204693</td>\n",
       "    </tr>\n",
       "    <tr>\n",
       "      <th>706</th>\n",
       "      <td>8.536557</td>\n",
       "      <td>0</td>\n",
       "      <td>4.304065</td>\n",
       "    </tr>\n",
       "  </tbody>\n",
       "</table>\n",
       "</div>"
      ],
      "text/plain": [
       "      customer_lifetime_value  income  monthly_premium_auto\n",
       "1395                 8.959375   87128              4.574711\n",
       "4020                 8.379943   86001              4.691348\n",
       "328                  8.439621   79487              4.736198\n",
       "899                  8.707322   20396              4.330733\n",
       "4176                 8.780080   22081              4.430817\n",
       "1184                 8.078135       0              4.510860\n",
       "2417                10.323596   64321              5.533389\n",
       "2633                 7.851211   11167              4.290459\n",
       "309                  8.839235   37308              4.454347\n",
       "2190                 8.492411       0              4.189655\n",
       "278                  9.062169   97361              4.290459\n",
       "3625                 9.111647   57078              4.727388\n",
       "1355                 8.635256   59782              4.248495\n",
       "1721                10.099769       0              4.442651\n",
       "890                  8.310930       0              4.143135\n",
       "2767                 8.591323       0              4.356709\n",
       "4459                 9.452647   73054              4.663439\n",
       "1610                 8.053714   52082              4.369448\n",
       "2018                 8.580933   43671              4.204693\n",
       "706                  8.536557       0              4.304065"
      ]
     },
     "execution_count": 23,
     "metadata": {},
     "output_type": "execute_result"
    }
   ],
   "source": [
    "y = numericals2['total_claim_amount']\n",
    "X = numericals2.drop(['total_claim_amount'], axis=1)\n",
    "X.sample(20)"
   ]
  },
  {
   "cell_type": "markdown",
   "id": "5519dd2e",
   "metadata": {},
   "source": [
    "10. Normalize (numerical)"
   ]
  },
  {
   "cell_type": "code",
   "execution_count": 24,
   "id": "62bcb821",
   "metadata": {},
   "outputs": [],
   "source": [
    "scaler = MinMaxScaler()\n",
    "scaler.fit(X)\n",
    "normalized_X = scaler.transform(X)\n",
    "X_norm = pd.DataFrame(normalized_X, columns=X.columns)"
   ]
  },
  {
   "cell_type": "code",
   "execution_count": 25,
   "id": "36ab49d4",
   "metadata": {},
   "outputs": [
    {
     "data": {
      "image/png": "[encoded data removed]",
      "text/plain": [
       "<Figure size 640x480 with 1 Axes>"
      ]
     },
     "metadata": {},
     "output_type": "display_data"
    }
   ],
   "source": [
    "sns.distplot(X_norm['customer_lifetime_value']) # for example for customer_lifetime_value\n",
    "plt.show()"
   ]
  },
  {
   "cell_type": "markdown",
   "id": "7b5d5bff",
   "metadata": {},
   "source": [
    "9.1 Use a different method of scaling the numerical variables"
   ]
  },
  {
   "cell_type": "code",
   "execution_count": 26,
   "id": "25a792bc",
   "metadata": {},
   "outputs": [
    {
     "data": {
      "text/html": [
       "<div>\n",
       "<style scoped>\n",
       "    .dataframe tbody tr th:only-of-type {\n",
       "        vertical-align: middle;\n",
       "    }\n",
       "\n",
       "    .dataframe tbody tr th {\n",
       "        vertical-align: top;\n",
       "    }\n",
       "\n",
       "    .dataframe thead th {\n",
       "        text-align: right;\n",
       "    }\n",
       "</style>\n",
       "<table border=\"1\" class=\"dataframe\">\n",
       "  <thead>\n",
       "    <tr style=\"text-align: right;\">\n",
       "      <th></th>\n",
       "      <th>customer_lifetime_value</th>\n",
       "      <th>income</th>\n",
       "      <th>monthly_premium_auto</th>\n",
       "    </tr>\n",
       "  </thead>\n",
       "  <tbody>\n",
       "    <tr>\n",
       "      <th>2157</th>\n",
       "      <td>-0.498536</td>\n",
       "      <td>-1.246753</td>\n",
       "      <td>-1.101684</td>\n",
       "    </tr>\n",
       "    <tr>\n",
       "      <th>1254</th>\n",
       "      <td>-0.726110</td>\n",
       "      <td>-1.246753</td>\n",
       "      <td>0.536616</td>\n",
       "    </tr>\n",
       "    <tr>\n",
       "      <th>246</th>\n",
       "      <td>-0.879440</td>\n",
       "      <td>1.199791</td>\n",
       "      <td>0.006395</td>\n",
       "    </tr>\n",
       "  </tbody>\n",
       "</table>\n",
       "</div>"
      ],
      "text/plain": [
       "      customer_lifetime_value    income  monthly_premium_auto\n",
       "2157                -0.498536 -1.246753             -1.101684\n",
       "1254                -0.726110 -1.246753              0.536616\n",
       "246                 -0.879440  1.199791              0.006395"
      ]
     },
     "execution_count": 26,
     "metadata": {},
     "output_type": "execute_result"
    }
   ],
   "source": [
    "transformer = StandardScaler().fit(X)\n",
    "standardized_X = transformer.transform(X)\n",
    "X_stand = pd.DataFrame(standardized_X, columns=X.columns)\n",
    "X_stand.sample(3)"
   ]
  },
  {
   "cell_type": "code",
   "execution_count": 27,
   "id": "9b0464b8",
   "metadata": {
    "scrolled": true
   },
   "outputs": [
    {
     "data": {
      "image/png": "[encoded data removed]",
      "text/plain": [
       "<Figure size 640x480 with 1 Axes>"
      ]
     },
     "metadata": {},
     "output_type": "display_data"
    }
   ],
   "source": [
    "sns.distplot(X_stand['customer_lifetime_value']) # for example for customer_lifetime_value\n",
    "plt.show()"
   ]
  },
  {
   "cell_type": "markdown",
   "id": "cf2ea3a9",
   "metadata": {},
   "source": [
    "7. One Hot/Label Encoding (categorical)"
   ]
  },
  {
   "cell_type": "code",
   "execution_count": 28,
   "id": "1b0a5d7b",
   "metadata": {},
   "outputs": [
    {
     "data": {
      "text/plain": [
       "Index(['customer', 'state', 'response', 'coverage', 'education',\n",
       "       'effective_to_date', 'employment_status', 'gender', 'location_code',\n",
       "       'marital_status', 'policy_type', 'policy', 'renew_offer_type',\n",
       "       'sales_channel', 'vehicle_class', 'vehicle_size', 'vehicle_type',\n",
       "       'month', 'total_claim_amount_range', 'income_group'],\n",
       "      dtype='object')"
      ]
     },
     "execution_count": 28,
     "metadata": {},
     "output_type": "execute_result"
    }
   ],
   "source": [
    "X_num = df.select_dtypes(include = np.number)\n",
    "X_cat = df.select_dtypes(include = np.object)\n",
    "X_cat.columns"
   ]
  },
  {
   "cell_type": "markdown",
   "id": "1af5522b",
   "metadata": {},
   "source": [
    "Checking all columns for their categories, and dropping the column if there are too many or only one category. Also dropping the columns that I had added for visualization. I also drop the columns that don't influence the target much, to my understanding. Or a represented (partly) by another variable, in this case \"income\", which has a good correlation with the target."
   ]
  },
  {
   "cell_type": "code",
   "execution_count": 29,
   "id": "18ab3398",
   "metadata": {},
   "outputs": [
    {
     "data": {
      "text/plain": [
       "array(['Offer3', 'Offer2', 'Offer1', 'Offer4'], dtype=object)"
      ]
     },
     "execution_count": 29,
     "metadata": {},
     "output_type": "execute_result"
    }
   ],
   "source": [
    "X_cat.renew_offer_type.unique()"
   ]
  },
  {
   "cell_type": "code",
   "execution_count": 30,
   "id": "18cfc176",
   "metadata": {},
   "outputs": [],
   "source": [
    "X_cat = X_cat.drop(['customer'], axis=1)"
   ]
  },
  {
   "cell_type": "code",
   "execution_count": 31,
   "id": "69adaa10",
   "metadata": {},
   "outputs": [],
   "source": [
    "X_cat = X_cat.drop(['effective_to_date'], axis=1)"
   ]
  },
  {
   "cell_type": "code",
   "execution_count": 32,
   "id": "14d7265b",
   "metadata": {},
   "outputs": [],
   "source": [
    "X_cat = X_cat.drop(['vehicle_type'], axis=1)"
   ]
  },
  {
   "cell_type": "code",
   "execution_count": 33,
   "id": "9aea846c",
   "metadata": {},
   "outputs": [],
   "source": [
    "X_cat = X_cat.drop(['total_claim_amount_range'], axis=1)"
   ]
  },
  {
   "cell_type": "code",
   "execution_count": 34,
   "id": "4ee5630e",
   "metadata": {},
   "outputs": [],
   "source": [
    "X_cat = X_cat.drop(['income_group'], axis=1)"
   ]
  },
  {
   "cell_type": "code",
   "execution_count": 35,
   "id": "bf127ad7",
   "metadata": {},
   "outputs": [],
   "source": [
    "X_cat = X_cat.drop(['month'], axis=1)"
   ]
  },
  {
   "cell_type": "code",
   "execution_count": 36,
   "id": "8d0a8d3c",
   "metadata": {},
   "outputs": [],
   "source": [
    "X_cat = X_cat.drop(['state'], axis=1) "
   ]
  },
  {
   "cell_type": "code",
   "execution_count": 37,
   "id": "ad5b6db3",
   "metadata": {},
   "outputs": [],
   "source": [
    "X_cat = X_cat.drop(['location_code'], axis=1) "
   ]
  },
  {
   "cell_type": "code",
   "execution_count": 38,
   "id": "f910cbee",
   "metadata": {},
   "outputs": [],
   "source": [
    "X_cat = X_cat.drop(['sales_channel'], axis=1)"
   ]
  },
  {
   "cell_type": "code",
   "execution_count": 39,
   "id": "1242bb4d",
   "metadata": {},
   "outputs": [],
   "source": [
    "X_cat = X_cat.drop(['education'], axis=1) # likely related to income"
   ]
  },
  {
   "cell_type": "code",
   "execution_count": 40,
   "id": "f20ab348",
   "metadata": {},
   "outputs": [],
   "source": [
    "X_cat = X_cat.drop(['marital_status'], axis=1) # likely related to income"
   ]
  },
  {
   "cell_type": "code",
   "execution_count": 41,
   "id": "1703e432",
   "metadata": {},
   "outputs": [],
   "source": [
    "X_cat = X_cat.drop(['policy'], axis=1) # the same as policy_type"
   ]
  },
  {
   "cell_type": "code",
   "execution_count": 42,
   "id": "abfbda16",
   "metadata": {},
   "outputs": [
    {
     "data": {
      "text/plain": [
       "Index(['response', 'coverage', 'employment_status', 'gender', 'policy_type',\n",
       "       'renew_offer_type', 'vehicle_class', 'vehicle_size'],\n",
       "      dtype='object')"
      ]
     },
     "execution_count": 42,
     "metadata": {},
     "output_type": "execute_result"
    }
   ],
   "source": [
    "X_cat.columns"
   ]
  },
  {
   "cell_type": "code",
   "execution_count": 43,
   "id": "49c83ada",
   "metadata": {},
   "outputs": [
    {
     "data": {
      "text/html": [
       "<div>\n",
       "<style scoped>\n",
       "    .dataframe tbody tr th:only-of-type {\n",
       "        vertical-align: middle;\n",
       "    }\n",
       "\n",
       "    .dataframe tbody tr th {\n",
       "        vertical-align: top;\n",
       "    }\n",
       "\n",
       "    .dataframe thead th {\n",
       "        text-align: right;\n",
       "    }\n",
       "</style>\n",
       "<table border=\"1\" class=\"dataframe\">\n",
       "  <thead>\n",
       "    <tr style=\"text-align: right;\">\n",
       "      <th></th>\n",
       "      <th>response_Yes</th>\n",
       "      <th>coverage_Extended</th>\n",
       "      <th>coverage_Premium</th>\n",
       "      <th>employment_status_Employed</th>\n",
       "      <th>employment_status_Medical Leave</th>\n",
       "      <th>employment_status_Retired</th>\n",
       "      <th>employment_status_Unemployed</th>\n",
       "      <th>gender_M</th>\n",
       "      <th>policy_type_Personal Auto</th>\n",
       "      <th>policy_type_Special Auto</th>\n",
       "      <th>renew_offer_type_Offer2</th>\n",
       "      <th>renew_offer_type_Offer3</th>\n",
       "      <th>renew_offer_type_Offer4</th>\n",
       "      <th>vehicle_class_Luxury Car</th>\n",
       "      <th>vehicle_class_Luxury SUV</th>\n",
       "      <th>vehicle_class_SUV</th>\n",
       "      <th>vehicle_class_Sports Car</th>\n",
       "      <th>vehicle_class_Two-Door Car</th>\n",
       "      <th>vehicle_size_Medsize</th>\n",
       "      <th>vehicle_size_Small</th>\n",
       "    </tr>\n",
       "  </thead>\n",
       "  <tbody>\n",
       "    <tr>\n",
       "      <th>0</th>\n",
       "      <td>0</td>\n",
       "      <td>0</td>\n",
       "      <td>0</td>\n",
       "      <td>1</td>\n",
       "      <td>0</td>\n",
       "      <td>0</td>\n",
       "      <td>0</td>\n",
       "      <td>1</td>\n",
       "      <td>1</td>\n",
       "      <td>0</td>\n",
       "      <td>0</td>\n",
       "      <td>1</td>\n",
       "      <td>0</td>\n",
       "      <td>0</td>\n",
       "      <td>0</td>\n",
       "      <td>1</td>\n",
       "      <td>0</td>\n",
       "      <td>0</td>\n",
       "      <td>1</td>\n",
       "      <td>0</td>\n",
       "    </tr>\n",
       "    <tr>\n",
       "      <th>1</th>\n",
       "      <td>1</td>\n",
       "      <td>1</td>\n",
       "      <td>0</td>\n",
       "      <td>1</td>\n",
       "      <td>0</td>\n",
       "      <td>0</td>\n",
       "      <td>0</td>\n",
       "      <td>1</td>\n",
       "      <td>0</td>\n",
       "      <td>0</td>\n",
       "      <td>1</td>\n",
       "      <td>0</td>\n",
       "      <td>0</td>\n",
       "      <td>0</td>\n",
       "      <td>0</td>\n",
       "      <td>0</td>\n",
       "      <td>0</td>\n",
       "      <td>0</td>\n",
       "      <td>1</td>\n",
       "      <td>0</td>\n",
       "    </tr>\n",
       "    <tr>\n",
       "      <th>2</th>\n",
       "      <td>0</td>\n",
       "      <td>0</td>\n",
       "      <td>0</td>\n",
       "      <td>1</td>\n",
       "      <td>0</td>\n",
       "      <td>0</td>\n",
       "      <td>0</td>\n",
       "      <td>1</td>\n",
       "      <td>1</td>\n",
       "      <td>0</td>\n",
       "      <td>0</td>\n",
       "      <td>0</td>\n",
       "      <td>0</td>\n",
       "      <td>0</td>\n",
       "      <td>0</td>\n",
       "      <td>0</td>\n",
       "      <td>0</td>\n",
       "      <td>0</td>\n",
       "      <td>1</td>\n",
       "      <td>0</td>\n",
       "    </tr>\n",
       "    <tr>\n",
       "      <th>3</th>\n",
       "      <td>0</td>\n",
       "      <td>1</td>\n",
       "      <td>0</td>\n",
       "      <td>1</td>\n",
       "      <td>0</td>\n",
       "      <td>0</td>\n",
       "      <td>0</td>\n",
       "      <td>1</td>\n",
       "      <td>0</td>\n",
       "      <td>0</td>\n",
       "      <td>1</td>\n",
       "      <td>0</td>\n",
       "      <td>0</td>\n",
       "      <td>0</td>\n",
       "      <td>0</td>\n",
       "      <td>1</td>\n",
       "      <td>0</td>\n",
       "      <td>0</td>\n",
       "      <td>0</td>\n",
       "      <td>0</td>\n",
       "    </tr>\n",
       "    <tr>\n",
       "      <th>4</th>\n",
       "      <td>0</td>\n",
       "      <td>0</td>\n",
       "      <td>0</td>\n",
       "      <td>1</td>\n",
       "      <td>0</td>\n",
       "      <td>0</td>\n",
       "      <td>0</td>\n",
       "      <td>1</td>\n",
       "      <td>1</td>\n",
       "      <td>0</td>\n",
       "      <td>0</td>\n",
       "      <td>0</td>\n",
       "      <td>1</td>\n",
       "      <td>0</td>\n",
       "      <td>0</td>\n",
       "      <td>0</td>\n",
       "      <td>0</td>\n",
       "      <td>1</td>\n",
       "      <td>1</td>\n",
       "      <td>0</td>\n",
       "    </tr>\n",
       "    <tr>\n",
       "      <th>...</th>\n",
       "      <td>...</td>\n",
       "      <td>...</td>\n",
       "      <td>...</td>\n",
       "      <td>...</td>\n",
       "      <td>...</td>\n",
       "      <td>...</td>\n",
       "      <td>...</td>\n",
       "      <td>...</td>\n",
       "      <td>...</td>\n",
       "      <td>...</td>\n",
       "      <td>...</td>\n",
       "      <td>...</td>\n",
       "      <td>...</td>\n",
       "      <td>...</td>\n",
       "      <td>...</td>\n",
       "      <td>...</td>\n",
       "      <td>...</td>\n",
       "      <td>...</td>\n",
       "      <td>...</td>\n",
       "      <td>...</td>\n",
       "    </tr>\n",
       "    <tr>\n",
       "      <th>4810</th>\n",
       "      <td>0</td>\n",
       "      <td>1</td>\n",
       "      <td>0</td>\n",
       "      <td>1</td>\n",
       "      <td>0</td>\n",
       "      <td>0</td>\n",
       "      <td>0</td>\n",
       "      <td>0</td>\n",
       "      <td>1</td>\n",
       "      <td>0</td>\n",
       "      <td>1</td>\n",
       "      <td>0</td>\n",
       "      <td>0</td>\n",
       "      <td>0</td>\n",
       "      <td>0</td>\n",
       "      <td>0</td>\n",
       "      <td>0</td>\n",
       "      <td>0</td>\n",
       "      <td>1</td>\n",
       "      <td>0</td>\n",
       "    </tr>\n",
       "    <tr>\n",
       "      <th>4811</th>\n",
       "      <td>0</td>\n",
       "      <td>0</td>\n",
       "      <td>0</td>\n",
       "      <td>1</td>\n",
       "      <td>0</td>\n",
       "      <td>0</td>\n",
       "      <td>0</td>\n",
       "      <td>1</td>\n",
       "      <td>1</td>\n",
       "      <td>0</td>\n",
       "      <td>1</td>\n",
       "      <td>0</td>\n",
       "      <td>0</td>\n",
       "      <td>0</td>\n",
       "      <td>0</td>\n",
       "      <td>0</td>\n",
       "      <td>0</td>\n",
       "      <td>1</td>\n",
       "      <td>1</td>\n",
       "      <td>0</td>\n",
       "    </tr>\n",
       "    <tr>\n",
       "      <th>4812</th>\n",
       "      <td>0</td>\n",
       "      <td>0</td>\n",
       "      <td>0</td>\n",
       "      <td>0</td>\n",
       "      <td>0</td>\n",
       "      <td>0</td>\n",
       "      <td>1</td>\n",
       "      <td>1</td>\n",
       "      <td>1</td>\n",
       "      <td>0</td>\n",
       "      <td>0</td>\n",
       "      <td>0</td>\n",
       "      <td>0</td>\n",
       "      <td>0</td>\n",
       "      <td>1</td>\n",
       "      <td>0</td>\n",
       "      <td>0</td>\n",
       "      <td>0</td>\n",
       "      <td>1</td>\n",
       "      <td>0</td>\n",
       "    </tr>\n",
       "    <tr>\n",
       "      <th>4813</th>\n",
       "      <td>0</td>\n",
       "      <td>0</td>\n",
       "      <td>0</td>\n",
       "      <td>1</td>\n",
       "      <td>0</td>\n",
       "      <td>0</td>\n",
       "      <td>0</td>\n",
       "      <td>0</td>\n",
       "      <td>1</td>\n",
       "      <td>0</td>\n",
       "      <td>1</td>\n",
       "      <td>0</td>\n",
       "      <td>0</td>\n",
       "      <td>0</td>\n",
       "      <td>0</td>\n",
       "      <td>0</td>\n",
       "      <td>0</td>\n",
       "      <td>0</td>\n",
       "      <td>1</td>\n",
       "      <td>0</td>\n",
       "    </tr>\n",
       "    <tr>\n",
       "      <th>4814</th>\n",
       "      <td>0</td>\n",
       "      <td>0</td>\n",
       "      <td>1</td>\n",
       "      <td>1</td>\n",
       "      <td>0</td>\n",
       "      <td>0</td>\n",
       "      <td>0</td>\n",
       "      <td>0</td>\n",
       "      <td>1</td>\n",
       "      <td>0</td>\n",
       "      <td>0</td>\n",
       "      <td>0</td>\n",
       "      <td>0</td>\n",
       "      <td>0</td>\n",
       "      <td>0</td>\n",
       "      <td>1</td>\n",
       "      <td>0</td>\n",
       "      <td>0</td>\n",
       "      <td>1</td>\n",
       "      <td>0</td>\n",
       "    </tr>\n",
       "  </tbody>\n",
       "</table>\n",
       "<p>4815 rows × 20 columns</p>\n",
       "</div>"
      ],
      "text/plain": [
       "      response_Yes  coverage_Extended  coverage_Premium  \\\n",
       "0                0                  0                 0   \n",
       "1                1                  1                 0   \n",
       "2                0                  0                 0   \n",
       "3                0                  1                 0   \n",
       "4                0                  0                 0   \n",
       "...            ...                ...               ...   \n",
       "4810             0                  1                 0   \n",
       "4811             0                  0                 0   \n",
       "4812             0                  0                 0   \n",
       "4813             0                  0                 0   \n",
       "4814             0                  0                 1   \n",
       "\n",
       "      employment_status_Employed  employment_status_Medical Leave  \\\n",
       "0                              1                                0   \n",
       "1                              1                                0   \n",
       "2                              1                                0   \n",
       "3                              1                                0   \n",
       "4                              1                                0   \n",
       "...                          ...                              ...   \n",
       "4810                           1                                0   \n",
       "4811                           1                                0   \n",
       "4812                           0                                0   \n",
       "4813                           1                                0   \n",
       "4814                           1                                0   \n",
       "\n",
       "      employment_status_Retired  employment_status_Unemployed  gender_M  \\\n",
       "0                             0                             0         1   \n",
       "1                             0                             0         1   \n",
       "2                             0                             0         1   \n",
       "3                             0                             0         1   \n",
       "4                             0                             0         1   \n",
       "...                         ...                           ...       ...   \n",
       "4810                          0                             0         0   \n",
       "4811                          0                             0         1   \n",
       "4812                          0                             1         1   \n",
       "4813                          0                             0         0   \n",
       "4814                          0                             0         0   \n",
       "\n",
       "      policy_type_Personal Auto  policy_type_Special Auto  \\\n",
       "0                             1                         0   \n",
       "1                             0                         0   \n",
       "2                             1                         0   \n",
       "3                             0                         0   \n",
       "4                             1                         0   \n",
       "...                         ...                       ...   \n",
       "4810                          1                         0   \n",
       "4811                          1                         0   \n",
       "4812                          1                         0   \n",
       "4813                          1                         0   \n",
       "4814                          1                         0   \n",
       "\n",
       "      renew_offer_type_Offer2  renew_offer_type_Offer3  \\\n",
       "0                           0                        1   \n",
       "1                           1                        0   \n",
       "2                           0                        0   \n",
       "3                           1                        0   \n",
       "4                           0                        0   \n",
       "...                       ...                      ...   \n",
       "4810                        1                        0   \n",
       "4811                        1                        0   \n",
       "4812                        0                        0   \n",
       "4813                        1                        0   \n",
       "4814                        0                        0   \n",
       "\n",
       "      renew_offer_type_Offer4  vehicle_class_Luxury Car  \\\n",
       "0                           0                         0   \n",
       "1                           0                         0   \n",
       "2                           0                         0   \n",
       "3                           0                         0   \n",
       "4                           1                         0   \n",
       "...                       ...                       ...   \n",
       "4810                        0                         0   \n",
       "4811                        0                         0   \n",
       "4812                        0                         0   \n",
       "4813                        0                         0   \n",
       "4814                        0                         0   \n",
       "\n",
       "      vehicle_class_Luxury SUV  vehicle_class_SUV  vehicle_class_Sports Car  \\\n",
       "0                            0                  1                         0   \n",
       "1                            0                  0                         0   \n",
       "2                            0                  0                         0   \n",
       "3                            0                  1                         0   \n",
       "4                            0                  0                         0   \n",
       "...                        ...                ...                       ...   \n",
       "4810                         0                  0                         0   \n",
       "4811                         0                  0                         0   \n",
       "4812                         1                  0                         0   \n",
       "4813                         0                  0                         0   \n",
       "4814                         0                  1                         0   \n",
       "\n",
       "      vehicle_class_Two-Door Car  vehicle_size_Medsize  vehicle_size_Small  \n",
       "0                              0                     1                   0  \n",
       "1                              0                     1                   0  \n",
       "2                              0                     1                   0  \n",
       "3                              0                     0                   0  \n",
       "4                              1                     1                   0  \n",
       "...                          ...                   ...                 ...  \n",
       "4810                           0                     1                   0  \n",
       "4811                           1                     1                   0  \n",
       "4812                           0                     1                   0  \n",
       "4813                           0                     1                   0  \n",
       "4814                           0                     1                   0  \n",
       "\n",
       "[4815 rows x 20 columns]"
      ]
     },
     "execution_count": 43,
     "metadata": {},
     "output_type": "execute_result"
    }
   ],
   "source": [
    "# for more than one categorical column we use the get dummies method to one hot encode\n",
    "X_cat_dumm = pd.get_dummies(X_cat, drop_first=True)\n",
    "X_cat_dumm"
   ]
  },
  {
   "cell_type": "markdown",
   "id": "accf56a4",
   "metadata": {},
   "source": [
    "8. Concat DataFrames"
   ]
  },
  {
   "cell_type": "code",
   "execution_count": 44,
   "id": "b7e75487",
   "metadata": {},
   "outputs": [
    {
     "data": {
      "text/html": [
       "<div>\n",
       "<style scoped>\n",
       "    .dataframe tbody tr th:only-of-type {\n",
       "        vertical-align: middle;\n",
       "    }\n",
       "\n",
       "    .dataframe tbody tr th {\n",
       "        vertical-align: top;\n",
       "    }\n",
       "\n",
       "    .dataframe thead th {\n",
       "        text-align: right;\n",
       "    }\n",
       "</style>\n",
       "<table border=\"1\" class=\"dataframe\">\n",
       "  <thead>\n",
       "    <tr style=\"text-align: right;\">\n",
       "      <th></th>\n",
       "      <th>response_Yes</th>\n",
       "      <th>coverage_Extended</th>\n",
       "      <th>coverage_Premium</th>\n",
       "      <th>employment_status_Employed</th>\n",
       "      <th>employment_status_Medical Leave</th>\n",
       "      <th>employment_status_Retired</th>\n",
       "      <th>employment_status_Unemployed</th>\n",
       "      <th>gender_M</th>\n",
       "      <th>policy_type_Personal Auto</th>\n",
       "      <th>policy_type_Special Auto</th>\n",
       "      <th>...</th>\n",
       "      <th>vehicle_class_Luxury Car</th>\n",
       "      <th>vehicle_class_Luxury SUV</th>\n",
       "      <th>vehicle_class_SUV</th>\n",
       "      <th>vehicle_class_Sports Car</th>\n",
       "      <th>vehicle_class_Two-Door Car</th>\n",
       "      <th>vehicle_size_Medsize</th>\n",
       "      <th>vehicle_size_Small</th>\n",
       "      <th>customer_lifetime_value</th>\n",
       "      <th>income</th>\n",
       "      <th>monthly_premium_auto</th>\n",
       "    </tr>\n",
       "  </thead>\n",
       "  <tbody>\n",
       "    <tr>\n",
       "      <th>2889</th>\n",
       "      <td>0</td>\n",
       "      <td>1</td>\n",
       "      <td>0</td>\n",
       "      <td>0</td>\n",
       "      <td>0</td>\n",
       "      <td>0</td>\n",
       "      <td>1</td>\n",
       "      <td>1</td>\n",
       "      <td>1</td>\n",
       "      <td>0</td>\n",
       "      <td>...</td>\n",
       "      <td>0</td>\n",
       "      <td>0</td>\n",
       "      <td>1</td>\n",
       "      <td>0</td>\n",
       "      <td>0</td>\n",
       "      <td>0</td>\n",
       "      <td>0</td>\n",
       "      <td>-0.417486</td>\n",
       "      <td>-1.246753</td>\n",
       "      <td>1.366291</td>\n",
       "    </tr>\n",
       "    <tr>\n",
       "      <th>619</th>\n",
       "      <td>0</td>\n",
       "      <td>1</td>\n",
       "      <td>0</td>\n",
       "      <td>0</td>\n",
       "      <td>0</td>\n",
       "      <td>0</td>\n",
       "      <td>1</td>\n",
       "      <td>0</td>\n",
       "      <td>1</td>\n",
       "      <td>0</td>\n",
       "      <td>...</td>\n",
       "      <td>0</td>\n",
       "      <td>0</td>\n",
       "      <td>0</td>\n",
       "      <td>0</td>\n",
       "      <td>1</td>\n",
       "      <td>1</td>\n",
       "      <td>0</td>\n",
       "      <td>-0.961195</td>\n",
       "      <td>-1.246753</td>\n",
       "      <td>0.112720</td>\n",
       "    </tr>\n",
       "    <tr>\n",
       "      <th>251</th>\n",
       "      <td>0</td>\n",
       "      <td>1</td>\n",
       "      <td>0</td>\n",
       "      <td>0</td>\n",
       "      <td>0</td>\n",
       "      <td>0</td>\n",
       "      <td>1</td>\n",
       "      <td>1</td>\n",
       "      <td>1</td>\n",
       "      <td>0</td>\n",
       "      <td>...</td>\n",
       "      <td>0</td>\n",
       "      <td>0</td>\n",
       "      <td>1</td>\n",
       "      <td>0</td>\n",
       "      <td>0</td>\n",
       "      <td>1</td>\n",
       "      <td>0</td>\n",
       "      <td>-0.502131</td>\n",
       "      <td>-1.246753</td>\n",
       "      <td>1.070035</td>\n",
       "    </tr>\n",
       "    <tr>\n",
       "      <th>2616</th>\n",
       "      <td>0</td>\n",
       "      <td>0</td>\n",
       "      <td>0</td>\n",
       "      <td>0</td>\n",
       "      <td>0</td>\n",
       "      <td>0</td>\n",
       "      <td>1</td>\n",
       "      <td>0</td>\n",
       "      <td>0</td>\n",
       "      <td>1</td>\n",
       "      <td>...</td>\n",
       "      <td>0</td>\n",
       "      <td>1</td>\n",
       "      <td>0</td>\n",
       "      <td>0</td>\n",
       "      <td>0</td>\n",
       "      <td>1</td>\n",
       "      <td>0</td>\n",
       "      <td>1.082983</td>\n",
       "      <td>-1.246753</td>\n",
       "      <td>2.265265</td>\n",
       "    </tr>\n",
       "    <tr>\n",
       "      <th>1561</th>\n",
       "      <td>0</td>\n",
       "      <td>0</td>\n",
       "      <td>1</td>\n",
       "      <td>1</td>\n",
       "      <td>0</td>\n",
       "      <td>0</td>\n",
       "      <td>0</td>\n",
       "      <td>1</td>\n",
       "      <td>1</td>\n",
       "      <td>0</td>\n",
       "      <td>...</td>\n",
       "      <td>0</td>\n",
       "      <td>0</td>\n",
       "      <td>0</td>\n",
       "      <td>0</td>\n",
       "      <td>0</td>\n",
       "      <td>1</td>\n",
       "      <td>0</td>\n",
       "      <td>1.102321</td>\n",
       "      <td>-0.227661</td>\n",
       "      <td>0.714838</td>\n",
       "    </tr>\n",
       "  </tbody>\n",
       "</table>\n",
       "<p>5 rows × 23 columns</p>\n",
       "</div>"
      ],
      "text/plain": [
       "      response_Yes  coverage_Extended  coverage_Premium  \\\n",
       "2889             0                  1                 0   \n",
       "619              0                  1                 0   \n",
       "251              0                  1                 0   \n",
       "2616             0                  0                 0   \n",
       "1561             0                  0                 1   \n",
       "\n",
       "      employment_status_Employed  employment_status_Medical Leave  \\\n",
       "2889                           0                                0   \n",
       "619                            0                                0   \n",
       "251                            0                                0   \n",
       "2616                           0                                0   \n",
       "1561                           1                                0   \n",
       "\n",
       "      employment_status_Retired  employment_status_Unemployed  gender_M  \\\n",
       "2889                          0                             1         1   \n",
       "619                           0                             1         0   \n",
       "251                           0                             1         1   \n",
       "2616                          0                             1         0   \n",
       "1561                          0                             0         1   \n",
       "\n",
       "      policy_type_Personal Auto  policy_type_Special Auto  ...  \\\n",
       "2889                          1                         0  ...   \n",
       "619                           1                         0  ...   \n",
       "251                           1                         0  ...   \n",
       "2616                          0                         1  ...   \n",
       "1561                          1                         0  ...   \n",
       "\n",
       "      vehicle_class_Luxury Car  vehicle_class_Luxury SUV  vehicle_class_SUV  \\\n",
       "2889                         0                         0                  1   \n",
       "619                          0                         0                  0   \n",
       "251                          0                         0                  1   \n",
       "2616                         0                         1                  0   \n",
       "1561                         0                         0                  0   \n",
       "\n",
       "      vehicle_class_Sports Car  vehicle_class_Two-Door Car  \\\n",
       "2889                         0                           0   \n",
       "619                          0                           1   \n",
       "251                          0                           0   \n",
       "2616                         0                           0   \n",
       "1561                         0                           0   \n",
       "\n",
       "      vehicle_size_Medsize  vehicle_size_Small  customer_lifetime_value  \\\n",
       "2889                     0                   0                -0.417486   \n",
       "619                      1                   0                -0.961195   \n",
       "251                      1                   0                -0.502131   \n",
       "2616                     1                   0                 1.082983   \n",
       "1561                     1                   0                 1.102321   \n",
       "\n",
       "        income  monthly_premium_auto  \n",
       "2889 -1.246753              1.366291  \n",
       "619  -1.246753              0.112720  \n",
       "251  -1.246753              1.070035  \n",
       "2616 -1.246753              2.265265  \n",
       "1561 -0.227661              0.714838  \n",
       "\n",
       "[5 rows x 23 columns]"
      ]
     },
     "execution_count": 44,
     "metadata": {},
     "output_type": "execute_result"
    }
   ],
   "source": [
    "X = pd.concat([X_cat_dumm, X_stand], axis=1)\n",
    "X.sample(5)"
   ]
  },
  {
   "cell_type": "code",
   "execution_count": 45,
   "id": "5bd0e2c8",
   "metadata": {},
   "outputs": [
    {
     "data": {
      "text/plain": [
       "Index(['coverage_Extended', 'coverage_Premium', 'customer_lifetime_value',\n",
       "       'employment_status_Employed', 'employment_status_Medical Leave',\n",
       "       'employment_status_Retired', 'employment_status_Unemployed', 'gender_M',\n",
       "       'income', 'monthly_premium_auto', 'policy_type_Personal Auto',\n",
       "       'policy_type_Special Auto', 'renew_offer_type_Offer2',\n",
       "       'renew_offer_type_Offer3', 'renew_offer_type_Offer4', 'response_Yes',\n",
       "       'vehicle_class_Luxury Car', 'vehicle_class_Luxury SUV',\n",
       "       'vehicle_class_SUV', 'vehicle_class_Sports Car',\n",
       "       'vehicle_class_Two-Door Car', 'vehicle_size_Medsize',\n",
       "       'vehicle_size_Small'],\n",
       "      dtype='object')"
      ]
     },
     "execution_count": 45,
     "metadata": {},
     "output_type": "execute_result"
    }
   ],
   "source": [
    "ordered_columns = sorted(X.columns, reverse=False)\n",
    "ordered_columns\n",
    "X = X[ordered_columns]\n",
    "X.columns"
   ]
  },
  {
   "cell_type": "markdown",
   "id": "785d01f1",
   "metadata": {},
   "source": [
    "## Linear Regression"
   ]
  },
  {
   "cell_type": "markdown",
   "id": "e5d8007e",
   "metadata": {},
   "source": [
    "9. Train-test split"
   ]
  },
  {
   "cell_type": "code",
   "execution_count": 46,
   "id": "6818ef45",
   "metadata": {
    "scrolled": true
   },
   "outputs": [],
   "source": [
    "X_train, X_test, y_train, y_test = train_test_split(X, y, test_size=0.3, random_state=78)"
   ]
  },
  {
   "cell_type": "code",
   "execution_count": 47,
   "id": "c13f0e40",
   "metadata": {},
   "outputs": [
    {
     "data": {
      "text/plain": [
       "1444.5"
      ]
     },
     "execution_count": 47,
     "metadata": {},
     "output_type": "execute_result"
    }
   ],
   "source": [
    "len(X)*0.3"
   ]
  },
  {
   "cell_type": "code",
   "execution_count": 48,
   "id": "e9b8b118",
   "metadata": {},
   "outputs": [
    {
     "data": {
      "text/plain": [
       "3370"
      ]
     },
     "execution_count": 48,
     "metadata": {},
     "output_type": "execute_result"
    }
   ],
   "source": [
    "len(X_train)"
   ]
  },
  {
   "cell_type": "code",
   "execution_count": 49,
   "id": "67ed3ec5",
   "metadata": {},
   "outputs": [
    {
     "data": {
      "text/plain": [
       "1445"
      ]
     },
     "execution_count": 49,
     "metadata": {},
     "output_type": "execute_result"
    }
   ],
   "source": [
    "len(X_test)"
   ]
  },
  {
   "cell_type": "markdown",
   "id": "48e07c98",
   "metadata": {},
   "source": [
    "9.1 Use a different ratio of train test split"
   ]
  },
  {
   "cell_type": "code",
   "execution_count": 50,
   "id": "9fa27a2e",
   "metadata": {},
   "outputs": [],
   "source": [
    "X_train, X_test, y_train, y_test = train_test_split(X, y, test_size=0.2, random_state=78)"
   ]
  },
  {
   "cell_type": "code",
   "execution_count": 51,
   "id": "4f2880a3",
   "metadata": {},
   "outputs": [
    {
     "data": {
      "text/plain": [
       "963.0"
      ]
     },
     "execution_count": 51,
     "metadata": {},
     "output_type": "execute_result"
    }
   ],
   "source": [
    "len(X)*0.2"
   ]
  },
  {
   "cell_type": "code",
   "execution_count": 52,
   "id": "0c5c3514",
   "metadata": {},
   "outputs": [
    {
     "data": {
      "text/plain": [
       "963"
      ]
     },
     "execution_count": 52,
     "metadata": {},
     "output_type": "execute_result"
    }
   ],
   "source": [
    "len(X_test)"
   ]
  },
  {
   "cell_type": "markdown",
   "id": "497995f4",
   "metadata": {},
   "source": [
    "11. Apply linear regression"
   ]
  },
  {
   "cell_type": "code",
   "execution_count": 53,
   "id": "ce621252",
   "metadata": {},
   "outputs": [
    {
     "data": {
      "text/plain": [
       "LinearRegression()"
      ]
     },
     "execution_count": 53,
     "metadata": {},
     "output_type": "execute_result"
    }
   ],
   "source": [
    "model = LinearRegression()\n",
    "model.fit(X_train,y_train) # training the model, fitting the data to the model"
   ]
  },
  {
   "cell_type": "code",
   "execution_count": 54,
   "id": "b8735c24",
   "metadata": {},
   "outputs": [
    {
     "data": {
      "text/plain": [
       "array([ 299.60401972,  270.56134596,  372.74365588,  505.48687108,\n",
       "        472.13944302,  485.90706483,  268.72243014,  327.27984519,\n",
       "        272.98356565,  318.74742703,  377.7625332 ,  677.2605199 ,\n",
       "        363.80675051,  321.62053484,  271.34893843,  179.63467464,\n",
       "        153.24872039,  242.29375393,  412.01286844,  227.22272327,\n",
       "        271.13497182,  363.96032156,  400.10849172,  409.60640749,\n",
       "        399.49326654,  386.9742545 ,  201.68995277,  278.74803976,\n",
       "        533.29063168, 1200.02461822,  535.30867295,  423.27365096,\n",
       "        429.30707537,  266.21539007,  325.00345228,  419.61083528,\n",
       "        580.44918391,  284.01652115,  323.81165642,  485.18764549,\n",
       "        429.23609313,  520.74485364,  572.6787321 ,  276.4140745 ,\n",
       "        242.09588078,  321.78254945,  332.13249379,  503.94223803,\n",
       "        478.2270376 ,  495.01716338,  295.81413128,  535.16385924,\n",
       "        420.98452995,  877.53159954,  192.86711018,  313.62213284,\n",
       "        463.90811886,  424.64132848,  278.25345451,  777.97619322,\n",
       "        314.09551859,  709.80713077,  557.83176684,  572.08254004,\n",
       "        430.67029551,  491.45298023,  189.12321126,  405.68398826,\n",
       "        775.43820932,  581.60914402,  453.28785828,  551.75416915,\n",
       "        158.14527876,  452.71997365,  325.04560198,  158.14527876,\n",
       "        314.28761588,  748.73787155,  376.78293411,  121.76818467,\n",
       "        339.22723466,  250.4166405 ,  406.58268765,  494.91926503,\n",
       "        518.84077829,  478.2270376 ,  394.38894801,  331.54629106,\n",
       "        182.55957506,  634.52016014,  340.06089317,  323.76274208,\n",
       "        331.97705991,  317.36275167,  209.10207203,  380.02272467,\n",
       "        242.81576132,  377.47647373,  614.80263889,  138.26817973,\n",
       "        703.89562586,  454.60718989,  750.93592233,  476.99002988,\n",
       "       1182.7282478 ,  709.46255285,  285.10623543,  619.01095574,\n",
       "        314.97710619,  751.60409748,  279.35347536,  166.1675919 ,\n",
       "        188.47213023,  547.7165508 ,  496.40747882,  416.02693656,\n",
       "        397.97064956,  706.80701284,  737.36844144,  501.37435028,\n",
       "        647.8061014 , 1110.99516475,  439.13755685,  365.62305081,\n",
       "        538.53987783,  800.4167223 ,  277.93955012,  316.17794482,\n",
       "        650.01352542,  963.29400993,  107.77264366,  152.94219889,\n",
       "        547.55329942,  292.28065269,  269.01192984,  363.63766942,\n",
       "        655.46633509,  506.5329715 ,  365.98078442,  429.64205701,\n",
       "        404.05869467,  144.27974073,  538.62727064,  484.10251056,\n",
       "        338.01537388,  807.64931434,  251.90397199,  237.31223902,\n",
       "        376.69565791,  414.19229667,  689.83411553,  361.04165384,\n",
       "        668.80099386,  635.78976507,  244.80422395,  739.99035094,\n",
       "        189.29085849,  213.46376959,  277.13025926,  566.94120389,\n",
       "        451.47497071,  343.208046  ,  191.88759603,  641.08531255,\n",
       "        373.13359304,  187.60074464,  568.45599389,  275.76376121,\n",
       "        517.14988327,  302.32848228,  327.13689571,  437.89796347,\n",
       "        294.45803953,  279.06741852,  515.7445252 ,  174.24625844,\n",
       "        482.61895338,  212.91301826,  617.44817969,  276.87048825,\n",
       "        210.30291065,  451.1396094 ,  427.6692977 ,  638.32074244,\n",
       "        234.66946614, 1264.43865098,  419.65018439,  616.68056364,\n",
       "        302.88000577,  380.13507234,  518.35920497,  314.45905578,\n",
       "        368.46551736,  489.2412818 ,  483.65264151,  290.63491844,\n",
       "        269.45704107,  298.55139288,  778.7285864 ,  176.32304163,\n",
       "        753.48721048,  313.37399435,  261.16437534,  371.11831664,\n",
       "        329.40551721,  444.00491478,  785.33007662,  249.72154238,\n",
       "        294.90947305,  322.24781435,  138.97852767,  331.4808471 ,\n",
       "        467.13824059,  464.96385739,  265.38369347,  474.93703678,\n",
       "        249.61252562,  386.31756173,  431.59834245,  326.26995595,\n",
       "        226.66413504,  336.28000464, 1188.83096375, 1265.09151598,\n",
       "        496.68144382,  249.89079632,  452.80288941,  507.3801673 ,\n",
       "        165.06082274,  210.91339181,  197.79096255,  468.19430851,\n",
       "        624.83804568,  460.48950421,  183.22096677,  602.34431262,\n",
       "        212.63695695,  227.06997106,  417.09224733,  529.27850199,\n",
       "        547.15919912,  454.12728809,  429.25937696,  184.44243361,\n",
       "        465.86483969,  233.47251531,  314.67959095,  249.23136315,\n",
       "        435.73900669,  479.61511972,  512.68730022,  619.29694823,\n",
       "        422.60565522,  497.92612979,  502.34486057,  523.39711749,\n",
       "        331.86795661,  661.22542978,  268.10801682,  171.96402137,\n",
       "       1152.03468579, 1066.92708165,  249.78025446,  476.19496842,\n",
       "        436.75125398,  405.84791637,  304.32171313,  552.44115202,\n",
       "        316.42438892,  752.65146531,  151.56527557,  325.08084492,\n",
       "        393.81638743,  130.53025537,  138.12085398,  357.0675764 ,\n",
       "        435.50118482,  200.42086076,  277.03558863,  653.47025509,\n",
       "        344.41968705,  545.75736863,  729.85283553,  996.20104546,\n",
       "        226.92824169,  584.83837552,  235.08360973,  472.3887924 ,\n",
       "       1084.98449767,  495.95992692,  504.80159413,  407.69054894,\n",
       "        468.88718483,  403.40579897,  546.42654245,  483.76209998,\n",
       "        510.73680843,  287.89099926,  416.32504851,  410.50995444,\n",
       "        665.4762974 ,  534.7454043 ,  619.08598146,  436.53434511,\n",
       "        542.60741614,  331.12130405,  563.27858498,  463.24347214,\n",
       "        514.76051961,  264.49194192,  230.43988081,  277.10466765,\n",
       "        286.60912975,  891.96892722,  391.51871542,  747.63935947,\n",
       "        584.47987529,  407.30032454,  428.63976681,  320.19964219,\n",
       "        521.41940595,  726.32200168,  217.69187237,  559.32454832,\n",
       "        430.94568774,  721.25852512,  249.98956419,  421.56092702,\n",
       "        371.8213049 ,  471.84474374,  281.30619076,  414.17949413,\n",
       "        665.7323951 ,  252.65371087,  133.34186053,  168.66876643,\n",
       "        319.83265198,  145.64983281,  494.27284482,  234.59420177,\n",
       "        714.12518029,  919.06581787,  566.58891427,  210.35584049,\n",
       "        525.56369422,  547.86845251,  561.37963352,  425.84717613,\n",
       "        154.51447741,  523.49993862,  160.61970716,  384.13801935,\n",
       "        212.36693302,  427.78213521,  345.21456688,  138.97852767,\n",
       "        463.71433114,  264.65954147,  492.53265201,  218.61264596,\n",
       "        577.13143215,  428.19537384,  576.47450267,  456.05370495,\n",
       "       1265.09151598,  581.09317163,  324.5465241 ,  495.01420472,\n",
       "        338.01537388,  169.66145497,  446.61227054,  304.44321511,\n",
       "        669.75758597,  490.53595545,  133.46141588,  165.61497007,\n",
       "        216.04022024,  216.06473552,  440.29930369,  251.31791419,\n",
       "        145.41847686,  714.00102061,  263.81822729,  274.90807965,\n",
       "        507.8204764 ,  466.84801392,  552.4248171 ,  270.90302134,\n",
       "        414.19598418,  418.5048112 ,  525.1420922 ,  589.35779063,\n",
       "        436.26077506,  220.99153591,  577.08792225,  707.59470877,\n",
       "        153.63459996,  414.27130189,  467.64044191,  146.38181104,\n",
       "        118.37049228,  278.80990627,  482.83602577,  243.62985973,\n",
       "        272.58037523,  192.18149931,  762.12658457,  439.67765915,\n",
       "        570.86364501,  676.77779251,  723.9209152 ,  622.0072328 ,\n",
       "        109.8900973 ,  299.93076574,  327.23892353,  773.75199734,\n",
       "        460.5851684 ,  505.03205243,  497.40938228,  719.17500798,\n",
       "        664.65215111,  192.87844437,  711.38537459,  220.24192467,\n",
       "        238.23470972,  517.11292281,  270.52994327,  186.99873639,\n",
       "        720.74954905,  364.72019158,  343.38456759,  196.79354419,\n",
       "        437.411559  ,  761.52533289,  360.03956718,  525.34642891,\n",
       "        447.45455759,  732.63318559,  334.39447314,  274.89101372,\n",
       "        493.72648265, 1288.17800853,  518.88941935,  168.89970088,\n",
       "        220.36846322,  497.92612979,  238.17128392,  685.53458543,\n",
       "        527.71353096,  278.40702611,  349.35027213,  711.09343543,\n",
       "        405.94026969,  234.01035414,  532.47192661,  200.93035287,\n",
       "        785.78202967,  382.8254723 ,  496.21800201,  301.5676894 ,\n",
       "        405.29561885,  355.05427417,  431.6304032 ,  368.73294737,\n",
       "        159.82757316,  615.16138025,  448.35545757,  415.48182124,\n",
       "        610.10709813,  335.0638177 ,  408.87429095,  441.65228185,\n",
       "        485.84550432,  807.47900772,  444.81194197,  161.93691549,\n",
       "        576.88420116,  309.5419749 ,  234.95328091,  573.27898043,\n",
       "        373.18129988,  196.64217297,  481.56218853,  480.1712733 ,\n",
       "        504.98978635,  451.68004689,  526.99394054,  550.50331619,\n",
       "        511.78993726,  133.96144103,  280.02825546,  710.50235175,\n",
       "        703.18686703,  175.46019096,  167.11689813,  595.75426653,\n",
       "         80.32259995, 1226.38697056,  687.13851954,  258.5479507 ,\n",
       "        732.87190706,  495.48103011,  513.81462309,  710.99305308,\n",
       "        292.81046078,  381.48153791,  235.95253575,  355.05427417,\n",
       "        728.0805826 ,  681.25989436,  398.86097171,  427.46426834,\n",
       "        302.11732053,  516.48290828,  339.65539594,  945.60398156,\n",
       "        482.38803675,  183.90349691,  410.75638376,  228.66261314,\n",
       "        205.95904466,  674.23216175,  459.28066769,  873.13516307,\n",
       "        475.47444082,  151.73639137,  202.21180749,  654.47664207,\n",
       "        650.11783063,  406.70884089,  435.07800853,  735.94210449,\n",
       "        536.66408568,  416.08870977,  418.28608094, 1099.93118893,\n",
       "        480.12473721,  511.30072136,  579.44954435,  460.34841941,\n",
       "        477.21093588,  748.23417069,  760.66780159,  246.52943709,\n",
       "        541.97138581,   92.92748889,  294.64125219,  266.2840755 ,\n",
       "        163.06014139,  918.79740204,  396.80580998,  402.34289644,\n",
       "        230.43988081,  155.67478372,  351.18766604,  670.38197777,\n",
       "        400.09813501,  766.98135396,  713.54658509,  134.4646694 ,\n",
       "        239.40861497,  238.06821712,  198.71723439,  597.67628327,\n",
       "        729.39712486,  449.11522164,  698.7708129 ,  300.44796926,\n",
       "        577.25757553,  483.65093252,  373.13883679,  204.63202216,\n",
       "        826.12281203,  365.25216441,  413.79110753,  448.04240419,\n",
       "        322.1339722 ,  548.33833204,  400.12698919,  494.28235404,\n",
       "        430.32715286,  258.38814833,  530.58967596,  132.41118845,\n",
       "        374.4402654 ,  440.33293151,  500.57488142,  454.48869691,\n",
       "        454.53914379,  734.29620385,  619.82528507,  577.25757553,\n",
       "        697.11572625,  424.07977855,  403.93421141,  365.90580519,\n",
       "       1051.08754946,  418.53729484,  448.4713564 ,  465.93314521,\n",
       "        771.95018398,  228.36574925,  490.6877544 ,  483.85547085,\n",
       "        241.30355138,  136.81387461,  464.66400107,  244.2552337 ,\n",
       "        543.47769554, 1111.44546709,  321.5346001 ,  836.20312658,\n",
       "        418.5168383 ,  606.99008533,  507.01917011,  198.11601057,\n",
       "        432.5160252 ,  258.05703727,  958.33458504,  471.70723242,\n",
       "        693.72274466,  757.76069958,  183.22096677,  634.89972355,\n",
       "        157.86858792,  479.32705112,  425.59547874,  194.72158889,\n",
       "        307.39864274,  469.14691717,  447.07509338,  583.21342224,\n",
       "        319.27502464,  356.33881902,  191.63659322,  436.29819104,\n",
       "        172.83750624,  269.02144564,  233.69072146,  298.3820093 ,\n",
       "        229.57965391,  408.3143828 ,  452.83503254,  191.57504739,\n",
       "        553.52740976,  176.20538014,  482.3761996 ,  814.17922934,\n",
       "        529.56968286,  236.15214554,  255.54882622,  131.36843504,\n",
       "        672.95554847,  158.08399177, 1465.63821601,  221.68063057,\n",
       "        775.3450594 ,  389.44427489,  245.27789573,  349.76768801,\n",
       "        471.84474374,  430.78848073,  497.81248909,  398.81428667,\n",
       "        692.71257732,  369.13663658,  355.05427417,  475.0385196 ,\n",
       "        535.65656933,  213.68918659,  304.04078676,  286.59053423,\n",
       "        756.63297196,  238.48507813,  535.72429979,  127.05397296,\n",
       "        393.03515007,  562.22464846,  433.93474618, 1058.9247619 ,\n",
       "        569.72717162,  177.06995706,  336.31665708,  655.63136589,\n",
       "       1217.74765336,  453.3362327 ,  360.13387108,  742.2320597 ,\n",
       "        484.67601968,  281.16552138,  467.76707126,  335.05368072,\n",
       "        544.24799888,  175.26975165,  225.23974818,  218.65697964,\n",
       "        271.04282672,  268.6838193 ,  333.1921225 ,  334.99778431,\n",
       "        214.19921316,  721.25852512,  523.89751355,  488.75852644,\n",
       "        239.54903547,  720.83811944,  150.03560309,  484.63196529,\n",
       "        573.04046424,  656.64878535,  493.78363251,  246.7769353 ,\n",
       "        456.49013618,  326.98961303,  702.63499452,  721.87273696,\n",
       "        147.02503675,  261.17951745,  448.90687116,  893.38569795,\n",
       "        298.46161833,  747.40553459,  549.20834159,  423.7840712 ,\n",
       "        306.50532396,  811.7351416 ,  169.44192468,  166.84489242,\n",
       "        492.73559382,  121.59182055,  257.03758627,  285.38969561,\n",
       "        505.5715804 ,  348.19373808,  404.69278864,  547.82693624,\n",
       "        230.89147699,  202.87598733,  657.40691725,  165.78821086,\n",
       "        815.53768645,  307.15794809,  425.94294807,  532.11547581,\n",
       "        430.46289846,  462.17431253,  457.31585375,  225.85209993,\n",
       "        490.46066628,  552.44115202,  964.32603654,  171.30987048,\n",
       "        542.02792185,  726.32200168,  221.60288922,  472.62474326,\n",
       "        478.50401076,  547.18368775,  213.93850742,  686.04780336,\n",
       "        671.53190242,  188.57301753,  414.11723823,  188.14816214,\n",
       "        947.7267093 ,  377.93893688,  428.19537384,  934.76874792,\n",
       "        709.8261265 ,  693.03554697,  469.59831462,  496.29409834,\n",
       "        290.98842119,  104.76010165,  209.10207203,  233.69072146,\n",
       "        360.94782376,  264.04308085,  929.4510229 ,  378.97111597,\n",
       "        653.47025509, 1044.81958687,  551.19681346,  533.67618464,\n",
       "        257.55786844,  527.92301401,  837.76196363,  731.60989444,\n",
       "        486.22730387,  453.47943912,  453.7608097 ,  432.23137417,\n",
       "        176.90125899,  144.47874424,  354.17613745,  689.52141949,\n",
       "        134.3336975 ,  436.14705814,  254.18606025,  191.10096784,\n",
       "        398.2144256 ,  909.99405173,  244.74888662,  304.1210269 ,\n",
       "        221.66392684,  315.88257281,  297.50708761,  837.76196363,\n",
       "        468.88628648, 1024.56830094,  526.61902157,  177.12773706,\n",
       "        214.97770755,  543.95828313,  263.24774692,  167.81513655,\n",
       "        732.52248137,  374.50365184,  699.02398696,  536.05593619,\n",
       "        480.0759143 ,  210.30291065,  997.11694829,  946.7713384 ,\n",
       "        373.33099023,  320.28964102,  237.90303741,  643.1889247 ,\n",
       "        552.70653899,  298.71137262,  535.23444177, 1023.28895609,\n",
       "        254.54723843,  235.12431647,  729.21939023,  336.00947587,\n",
       "        588.16698725,  677.42361695,  841.67185483,  680.70032065,\n",
       "        149.19633867,  413.53689353,  212.55977944,  150.10665975,\n",
       "        438.94748713,  533.10112266,  274.58544667,  387.06413905,\n",
       "        581.10265898,  209.37971462,  358.79609026,  247.24141715,\n",
       "        411.32297412,  285.38969561,  404.97715796,  397.5488497 ,\n",
       "        288.97214559,  484.54730426,  496.00841243,  232.55283719,\n",
       "        307.37103081,  223.12088115,  227.59377864,  230.90179391,\n",
       "        760.15345396,  462.36190503,  431.98945808,  336.53695167,\n",
       "        252.69277506,  565.09369556,  272.00863384,  684.82457457,\n",
       "        377.65022125,  789.5726636 ,  359.61521721, 1083.8451299 ,\n",
       "        235.09759837,  689.83411553,  418.7081034 ,  360.13387108,\n",
       "        462.36437613,  461.81503333, 1075.4923317 ,  603.81064219,\n",
       "        558.44741891,  185.19315681,  329.35058869,  229.521631  ,\n",
       "        148.76241589,  476.88483704,  305.6437771 ,  224.4867888 ,\n",
       "        732.53253151,  616.8162558 ,  273.36079443,  465.36669689,\n",
       "        529.51154214,  497.92612979,  394.7655782 ,  378.62956833,\n",
       "        452.8834288 ,  496.3127631 ,  153.59938951,  495.36934435,\n",
       "        587.55746066,  449.20963136,  471.77049786,  775.27300482,\n",
       "        282.44710472,  391.2814975 ,  436.43834058,  317.03112405,\n",
       "        545.39760336,  700.48891118,  209.8155063 ,  371.69735379,\n",
       "        220.99153591,  398.62933207,  568.03409715,  215.22988571,\n",
       "        385.28526502,  439.38356544,  240.16324104,  543.63754132,\n",
       "        173.86933342,  683.62447758,  452.76554187,  220.6487672 ,\n",
       "        374.34075515,  446.5315285 ,  408.87429095,  287.72917925,\n",
       "        338.26238546,  163.48680442,  504.26438248,  569.59943163,\n",
       "        218.2511195 ,  364.23755082,  335.296411  ,  609.11864249,\n",
       "        145.64983281,  768.75232979,  473.73553915,  518.0908776 ,\n",
       "        193.29527727,  724.45245043,  483.62820992,  301.64092062,\n",
       "        706.4568402 ,  336.31665708,  547.67157835,  466.1077052 ,\n",
       "        753.09292657,  742.2320597 ,  448.91504169,  275.87689885,\n",
       "        347.08288982,  661.73547803,  218.6756577 ,  173.06788745,\n",
       "        368.90502696,  507.11347477,  248.71365656])"
      ]
     },
     "execution_count": 54,
     "metadata": {},
     "output_type": "execute_result"
    }
   ],
   "source": [
    "predictions  = model.predict(X_test)\n",
    "predictions"
   ]
  },
  {
   "cell_type": "code",
   "execution_count": 55,
   "id": "01db9b75",
   "metadata": {},
   "outputs": [
    {
     "data": {
      "text/plain": [
       "4010     85.683520\n",
       "4740    118.454974\n",
       "3389    504.000000\n",
       "3160    619.200000\n",
       "3445    987.122788\n",
       "           ...    \n",
       "3135    128.969729\n",
       "3048    279.450351\n",
       "3894    336.000000\n",
       "1101    316.800000\n",
       "1461    331.200000\n",
       "Name: total_claim_amount, Length: 963, dtype: float64"
      ]
     },
     "execution_count": 55,
     "metadata": {},
     "output_type": "execute_result"
    }
   ],
   "source": [
    "y_test "
   ]
  },
  {
   "cell_type": "markdown",
   "id": "ec339409",
   "metadata": {},
   "source": [
    "## Model Validation"
   ]
  },
  {
   "cell_type": "markdown",
   "id": "99a69ac2",
   "metadata": {},
   "source": [
    "12. Description: R2, RMSE, MSE, MAE"
   ]
  },
  {
   "cell_type": "code",
   "execution_count": 56,
   "id": "ef27938b",
   "metadata": {},
   "outputs": [
    {
     "name": "stdout",
     "output_type": "stream",
     "text": [
      "r2 =  0.5051233818919161\n",
      "RMSE =  205.82403848788834\n",
      "MSE =  42363.53481946375\n",
      "MAE =  144.11094766906322\n"
     ]
    }
   ],
   "source": [
    "r2 = r2_score(y_test, predictions)\n",
    "RMSE = mean_squared_error(y_test, predictions, squared=False)\n",
    "MSE = mean_squared_error(y_test, predictions)\n",
    "MAE = mean_absolute_error(y_test, predictions)\n",
    "\n",
    "print(\"r2 = \", r2)\n",
    "print(\"RMSE = \", RMSE)\n",
    "print(\"MSE = \", MSE)\n",
    "print(\"MAE = \", MAE)"
   ]
  },
  {
   "cell_type": "code",
   "execution_count": 57,
   "id": "a8b6dda5",
   "metadata": {},
   "outputs": [
    {
     "data": {
      "text/plain": [
       "count    4815.000000\n",
       "mean      433.968686\n",
       "std       294.084064\n",
       "min         0.099007\n",
       "25%       259.476251\n",
       "50%       381.118731\n",
       "75%       547.988754\n",
       "max      2893.239678\n",
       "Name: total_claim_amount, dtype: float64"
      ]
     },
     "execution_count": 57,
     "metadata": {},
     "output_type": "execute_result"
    }
   ],
   "source": [
    "df['total_claim_amount'].describe()"
   ]
  }
 ],
 "metadata": {
  "kernelspec": {
   "display_name": "Python 3 (ipykernel)",
   "language": "python",
   "name": "python3"
  },
  "language_info": {
   "codemirror_mode": {
    "name": "ipython",
    "version": 3
   },
   "file_extension": ".py",
   "mimetype": "text/x-python",
   "name": "python",
   "nbconvert_exporter": "python",
   "pygments_lexer": "ipython3",
   "version": "3.9.13"
  }
 },
 "nbformat": 4,
 "nbformat_minor": 5
}
